{
 "cells": [
  {
   "source": [
    "## Machine Learning\n",
    "#### Customer Segmentation Using Clustering\n",
    "###### Aditya Hajare | https://www.linkedin.com/in/aditya-hajare"
   ],
   "cell_type": "markdown",
   "metadata": {}
  },
  {
   "cell_type": "code",
   "execution_count": 63,
   "metadata": {},
   "outputs": [
    {
     "output_type": "execute_result",
     "data": {
      "text/plain": [
       "   Age     Sex                             Race     Marital status?  \\\n",
       "0   66    Male                          Refused            Divorced   \n",
       "1   46    Male  Native American/American Indian             Married   \n",
       "2   32    Male                       Mixed race  Never been married   \n",
       "3   27    Male                       Mixed race             Married   \n",
       "4   16  Female                       Mixed race  Never been married   \n",
       "\n",
       "                Education         Employement                   Incomes  \\\n",
       "0        College graduate             Retired  $20,000 to under $30,000   \n",
       "1    High school graduate  Employed full-time         Less than $10,000   \n",
       "2    High school graduate  Employed full-time         Less than $10,000   \n",
       "3    High school graduate  Employed full-time  $40,000 to under $50,000   \n",
       "4  High school incomplete  Employed part-time  $10,000 to under $20,000   \n",
       "\n",
       "   How many books did you read during last 12months?  \\\n",
       "0                                                 97   \n",
       "1                                                 97   \n",
       "2                                                 97   \n",
       "3                                                 97   \n",
       "4                                                 97   \n",
       "\n",
       "  Read any printed books during last 12months?  \\\n",
       "0                                          Yes   \n",
       "1                                          Yes   \n",
       "2                                           No   \n",
       "3                                          Yes   \n",
       "4                                          Yes   \n",
       "\n",
       "  Read any audiobooks during last 12months?  \\\n",
       "0                                        No   \n",
       "1                                       Yes   \n",
       "2                                       Yes   \n",
       "3                                        No   \n",
       "4                                       Yes   \n",
       "\n",
       "  Read any e-books during last 12months?  \\\n",
       "0                                    Yes   \n",
       "1                                    Yes   \n",
       "2                                    Yes   \n",
       "3                                    Yes   \n",
       "4                                     No   \n",
       "\n",
       "                           Last book you read, you…  \\\n",
       "0                                Purchased the book   \n",
       "1                                Purchased the book   \n",
       "2  Borrowed the book from a friend or family member   \n",
       "3                  Borrowed the book from a library   \n",
       "4                                Purchased the book   \n",
       "\n",
       "  Do you happen to read any daily news or newspapers?  \\\n",
       "0                                                 No    \n",
       "1                                                Yes    \n",
       "2                                                Yes    \n",
       "3                                                Yes    \n",
       "4                                                Yes    \n",
       "\n",
       "  Do you happen to read any magazines or journals?  \n",
       "0                                              Yes  \n",
       "1                                              Yes  \n",
       "2                                              Yes  \n",
       "3                                               No  \n",
       "4                                               No  "
      ],
      "text/html": "<div>\n<style scoped>\n    .dataframe tbody tr th:only-of-type {\n        vertical-align: middle;\n    }\n\n    .dataframe tbody tr th {\n        vertical-align: top;\n    }\n\n    .dataframe thead th {\n        text-align: right;\n    }\n</style>\n<table border=\"1\" class=\"dataframe\">\n  <thead>\n    <tr style=\"text-align: right;\">\n      <th></th>\n      <th>Age</th>\n      <th>Sex</th>\n      <th>Race</th>\n      <th>Marital status?</th>\n      <th>Education</th>\n      <th>Employement</th>\n      <th>Incomes</th>\n      <th>How many books did you read during last 12months?</th>\n      <th>Read any printed books during last 12months?</th>\n      <th>Read any audiobooks during last 12months?</th>\n      <th>Read any e-books during last 12months?</th>\n      <th>Last book you read, you…</th>\n      <th>Do you happen to read any daily news or newspapers?</th>\n      <th>Do you happen to read any magazines or journals?</th>\n    </tr>\n  </thead>\n  <tbody>\n    <tr>\n      <th>0</th>\n      <td>66</td>\n      <td>Male</td>\n      <td>Refused</td>\n      <td>Divorced</td>\n      <td>College graduate</td>\n      <td>Retired</td>\n      <td>$20,000 to under $30,000</td>\n      <td>97</td>\n      <td>Yes</td>\n      <td>No</td>\n      <td>Yes</td>\n      <td>Purchased the book</td>\n      <td>No</td>\n      <td>Yes</td>\n    </tr>\n    <tr>\n      <th>1</th>\n      <td>46</td>\n      <td>Male</td>\n      <td>Native American/American Indian</td>\n      <td>Married</td>\n      <td>High school graduate</td>\n      <td>Employed full-time</td>\n      <td>Less than $10,000</td>\n      <td>97</td>\n      <td>Yes</td>\n      <td>Yes</td>\n      <td>Yes</td>\n      <td>Purchased the book</td>\n      <td>Yes</td>\n      <td>Yes</td>\n    </tr>\n    <tr>\n      <th>2</th>\n      <td>32</td>\n      <td>Male</td>\n      <td>Mixed race</td>\n      <td>Never been married</td>\n      <td>High school graduate</td>\n      <td>Employed full-time</td>\n      <td>Less than $10,000</td>\n      <td>97</td>\n      <td>No</td>\n      <td>Yes</td>\n      <td>Yes</td>\n      <td>Borrowed the book from a friend or family member</td>\n      <td>Yes</td>\n      <td>Yes</td>\n    </tr>\n    <tr>\n      <th>3</th>\n      <td>27</td>\n      <td>Male</td>\n      <td>Mixed race</td>\n      <td>Married</td>\n      <td>High school graduate</td>\n      <td>Employed full-time</td>\n      <td>$40,000 to under $50,000</td>\n      <td>97</td>\n      <td>Yes</td>\n      <td>No</td>\n      <td>Yes</td>\n      <td>Borrowed the book from a library</td>\n      <td>Yes</td>\n      <td>No</td>\n    </tr>\n    <tr>\n      <th>4</th>\n      <td>16</td>\n      <td>Female</td>\n      <td>Mixed race</td>\n      <td>Never been married</td>\n      <td>High school incomplete</td>\n      <td>Employed part-time</td>\n      <td>$10,000 to under $20,000</td>\n      <td>97</td>\n      <td>Yes</td>\n      <td>Yes</td>\n      <td>No</td>\n      <td>Purchased the book</td>\n      <td>Yes</td>\n      <td>No</td>\n    </tr>\n  </tbody>\n</table>\n</div>"
     },
     "metadata": {},
     "execution_count": 63
    }
   ],
   "source": [
    "import warnings \n",
    "warnings.filterwarnings('ignore') \n",
    "\n",
    "import pandas as pd \n",
    "import numpy as np\n",
    "import seaborn as sns\n",
    "import matplotlib.pyplot as plt\n",
    "import statsmodels.api as sm\n",
    "\n",
    "\n",
    "%matplotlib inline\n",
    "\n",
    "from sklearn.model_selection import train_test_split\n",
    "from sklearn.linear_model import LogisticRegression\n",
    "from sklearn.neighbors import KNeighborsClassifier\n",
    "from sklearn.tree import DecisionTreeClassifier\n",
    "from sklearn.ensemble import RandomForestClassifier\n",
    "from sklearn.preprocessing import LabelEncoder\n",
    "\n",
    "# load the data and print\n",
    "csv_data = pd.read_csv( \"book_readers_data.csv\" ) \n",
    "\n",
    "csv_data.head()"
   ]
  },
  {
   "cell_type": "code",
   "execution_count": 64,
   "metadata": {},
   "outputs": [
    {
     "output_type": "execute_result",
     "data": {
      "text/plain": [
       "Index(['Age', 'Sex', 'Race', 'Marital status?', 'Education', 'Employement',\n",
       "       'Incomes', 'How many books did you read during last 12months?',\n",
       "       'Read any printed books during last 12months?',\n",
       "       'Read any audiobooks during last 12months?',\n",
       "       'Read any e-books during last 12months?', 'Last book you read, you…',\n",
       "       'Do you happen to read any daily news or newspapers?',\n",
       "       'Do you happen to read any magazines or journals?'],\n",
       "      dtype='object')"
      ]
     },
     "metadata": {},
     "execution_count": 64
    }
   ],
   "source": [
    "csv_data.columns"
   ]
  },
  {
   "cell_type": "code",
   "execution_count": 65,
   "metadata": {},
   "outputs": [
    {
     "output_type": "stream",
     "name": "stdout",
     "text": [
      "<class 'pandas.core.frame.DataFrame'>\nRangeIndex: 2832 entries, 0 to 2831\nData columns (total 14 columns):\n #   Column                                               Non-Null Count  Dtype \n---  ------                                               --------------  ----- \n 0   Age                                                  2832 non-null   int64 \n 1   Sex                                                  2832 non-null   object\n 2   Race                                                 2832 non-null   object\n 3   Marital status?                                      2832 non-null   object\n 4   Education                                            2832 non-null   object\n 5   Employement                                          2832 non-null   object\n 6   Incomes                                              2832 non-null   object\n 7   How many books did you read during last 12months?    2832 non-null   int64 \n 8   Read any printed books during last 12months?         2442 non-null   object\n 9   Read any audiobooks during last 12months?            2442 non-null   object\n 10  Read any e-books during last 12months?               2442 non-null   object\n 11  Last book you read, you…                             2442 non-null   object\n 12  Do you happen to read any daily news or newspapers?  2832 non-null   object\n 13  Do you happen to read any magazines or journals?     2832 non-null   object\ndtypes: int64(2), object(12)\nmemory usage: 309.9+ KB\n"
     ]
    }
   ],
   "source": [
    "csv_data.info()"
   ]
  },
  {
   "cell_type": "code",
   "execution_count": 66,
   "metadata": {},
   "outputs": [],
   "source": [
    "import datetime\n",
    "import re\n",
    "\n",
    "def col_quick_rename(data):\n",
    "    cols = []\n",
    "\n",
    "    for col_name in data.columns:\n",
    "        cleaned = re.sub(r'[^\\w\\s]', '', col_name) \n",
    "        split = re.findall('[A-Z][^A-Z]*', cleaned)\n",
    "\n",
    "        if split:\n",
    "            new_name = \"\"\n",
    "\n",
    "            for index,substr in enumerate(split):\n",
    "                if index!=0:\n",
    "                    new_name+=\"_\"+substr.lower()\n",
    "                else:\n",
    "                    new_name = substr.lower()\n",
    "\n",
    "            cols.append(new_name)\n",
    "\n",
    "    data.columns = cols\n",
    "\n",
    "    return data\n",
    "\n",
    "csv_data = col_quick_rename(csv_data)\n",
    "csv_data.columns = [\"age\", \"sex\", \"race\", \"marital_status\", \"education\", \"employement\", \"incomes\", \"books_12m\", \"printbooks_12m\", \"audiobooks_12m\", \"ebooks_12m\", \"last_book\", \"daily_or_newspaper\", \"mag_journals\"]"
   ]
  },
  {
   "cell_type": "code",
   "execution_count": 67,
   "metadata": {},
   "outputs": [
    {
     "output_type": "stream",
     "name": "stdout",
     "text": [
      "<class 'pandas.core.frame.DataFrame'>\nRangeIndex: 2832 entries, 0 to 2831\nData columns (total 14 columns):\n #   Column              Non-Null Count  Dtype \n---  ------              --------------  ----- \n 0   age                 2832 non-null   int64 \n 1   sex                 2832 non-null   object\n 2   race                2832 non-null   object\n 3   marital_status      2832 non-null   object\n 4   education           2832 non-null   object\n 5   employement         2832 non-null   object\n 6   incomes             2832 non-null   object\n 7   books_12m           2832 non-null   int64 \n 8   printbooks_12m      2442 non-null   object\n 9   audiobooks_12m      2442 non-null   object\n 10  ebooks_12m          2442 non-null   object\n 11  last_book           2442 non-null   object\n 12  daily_or_newspaper  2832 non-null   object\n 13  mag_journals        2832 non-null   object\ndtypes: int64(2), object(12)\nmemory usage: 309.9+ KB\n"
     ]
    }
   ],
   "source": [
    "csv_data.info()"
   ]
  },
  {
   "cell_type": "code",
   "execution_count": 68,
   "metadata": {},
   "outputs": [
    {
     "output_type": "stream",
     "name": "stdout",
     "text": [
      "<class 'pandas.core.frame.DataFrame'>\nRangeIndex: 2832 entries, 0 to 2831\nData columns (total 14 columns):\n #   Column              Non-Null Count  Dtype \n---  ------              --------------  ----- \n 0   age                 2832 non-null   int64 \n 1   sex                 2832 non-null   int64 \n 2   race                2832 non-null   int64 \n 3   marital_status      2832 non-null   int64 \n 4   education           2832 non-null   int64 \n 5   employement         2832 non-null   int64 \n 6   incomes             2832 non-null   object\n 7   books_12m           2832 non-null   int64 \n 8   printbooks_12m      2442 non-null   object\n 9   audiobooks_12m      2442 non-null   object\n 10  ebooks_12m          2442 non-null   object\n 11  last_book           2442 non-null   object\n 12  daily_or_newspaper  2832 non-null   object\n 13  mag_journals        2832 non-null   object\ndtypes: int64(7), object(7)\nmemory usage: 309.9+ KB\n"
     ]
    }
   ],
   "source": [
    "def encode_feat(data):\n",
    "    label_encoder = LabelEncoder()\n",
    "    label_encoder.fit(data)\n",
    "    return label_encoder.transform(data)\n",
    "\n",
    "csv_data['sex'] = encode_feat(csv_data['sex'])\n",
    "csv_data['race'] = encode_feat(csv_data['race'])\n",
    "csv_data['marital_status'] = encode_feat(csv_data['marital_status'])\n",
    "csv_data['education'] = encode_feat(csv_data['education'])\n",
    "csv_data['employement'] = encode_feat(csv_data['employement'])\n",
    "\n",
    "csv_data.info()"
   ]
  },
  {
   "cell_type": "code",
   "execution_count": 69,
   "metadata": {},
   "outputs": [
    {
     "output_type": "execute_result",
     "data": {
      "text/plain": [
       "$100,000 to under $150,000     530\n",
       "$50,000 to under $75,000       394\n",
       "$75,000 to under $100,000      316\n",
       "Refused                        291\n",
       "$30,000 to under $40,000       265\n",
       "$20,000 to under $30,000       238\n",
       "$10,000 to under $20,000       216\n",
       "9$100,000 to under $150,000    212\n",
       "$40,000 to under $50,000       207\n",
       "Less than $10,000              163\n",
       "Name: incomes, dtype: int64"
      ]
     },
     "metadata": {},
     "execution_count": 69
    }
   ],
   "source": [
    "csv_data['incomes'].value_counts()"
   ]
  },
  {
   "cell_type": "code",
   "execution_count": 70,
   "metadata": {},
   "outputs": [],
   "source": [
    "idx = csv_data.index[csv_data[\"incomes\"] == '9$100,000 to under $150,000' ].tolist()\n",
    "csv_data.loc[idx][\"incomes\"] = \"$100,000 to under $150,000\"\n",
    "csv_data.iloc[idx, csv_data.columns.get_loc('incomes')] = \"$100,000 to under $150,000\"\n"
   ]
  },
  {
   "cell_type": "code",
   "execution_count": 71,
   "metadata": {},
   "outputs": [
    {
     "output_type": "execute_result",
     "data": {
      "text/plain": [
       "$100,000 to under $150,000    742\n",
       "$50,000 to under $75,000      394\n",
       "$75,000 to under $100,000     316\n",
       "Refused                       291\n",
       "$30,000 to under $40,000      265\n",
       "$20,000 to under $30,000      238\n",
       "$10,000 to under $20,000      216\n",
       "$40,000 to under $50,000      207\n",
       "Less than $10,000             163\n",
       "Name: incomes, dtype: int64"
      ]
     },
     "metadata": {},
     "execution_count": 71
    }
   ],
   "source": [
    "csv_data['incomes'].value_counts()"
   ]
  },
  {
   "cell_type": "code",
   "execution_count": 72,
   "metadata": {},
   "outputs": [],
   "source": [
    "# encode the education feature\n",
    "le = LabelEncoder()\n",
    "le.fit(csv_data['incomes'])\n",
    "csv_data['incomes'] = le.transform(csv_data['incomes'])\n"
   ]
  },
  {
   "cell_type": "code",
   "execution_count": 73,
   "metadata": {},
   "outputs": [
    {
     "output_type": "execute_result",
     "data": {
      "text/plain": [
       "Yes           2264\n",
       "No             168\n",
       "Don’t know      10\n",
       "Name: printbooks_12m, dtype: int64"
      ]
     },
     "metadata": {},
     "execution_count": 73
    }
   ],
   "source": [
    "csv_data['printbooks_12m'].value_counts()"
   ]
  },
  {
   "cell_type": "code",
   "execution_count": 74,
   "metadata": {},
   "outputs": [],
   "source": [
    "# encode the education feature\n",
    "le = LabelEncoder()\n",
    "csv_data['printbooks_12m'] = csv_data['printbooks_12m'].astype(str)\n",
    "\n",
    "le.fit(csv_data['printbooks_12m'])\n",
    "csv_data['printbooks_12m'] = le.transform(csv_data['printbooks_12m'])"
   ]
  },
  {
   "cell_type": "code",
   "execution_count": 75,
   "metadata": {},
   "outputs": [
    {
     "output_type": "execute_result",
     "data": {
      "text/plain": [
       "No            2027\n",
       "Yes            411\n",
       "Don’t know       4\n",
       "Name: audiobooks_12m, dtype: int64"
      ]
     },
     "metadata": {},
     "execution_count": 75
    }
   ],
   "source": [
    "csv_data['audiobooks_12m'].value_counts()"
   ]
  },
  {
   "cell_type": "code",
   "execution_count": 76,
   "metadata": {},
   "outputs": [],
   "source": [
    "# encode the education feature\n",
    "le = LabelEncoder()\n",
    "csv_data['audiobooks_12m'] = csv_data['audiobooks_12m'].astype(str)\n",
    "\n",
    "le.fit(csv_data['audiobooks_12m'])\n",
    "csv_data['audiobooks_12m'] = le.transform(csv_data['audiobooks_12m'])"
   ]
  },
  {
   "cell_type": "code",
   "execution_count": 77,
   "metadata": {},
   "outputs": [
    {
     "output_type": "execute_result",
     "data": {
      "text/plain": [
       "No            1641\n",
       "Yes            787\n",
       "Don’t know      14\n",
       "Name: ebooks_12m, dtype: int64"
      ]
     },
     "metadata": {},
     "execution_count": 77
    }
   ],
   "source": [
    "csv_data['ebooks_12m'].value_counts()"
   ]
  },
  {
   "cell_type": "code",
   "execution_count": 78,
   "metadata": {},
   "outputs": [],
   "source": [
    "# encode the education feature\n",
    "le = LabelEncoder()\n",
    "csv_data['ebooks_12m'] = csv_data['ebooks_12m'].astype(str)\n",
    "\n",
    "le.fit(csv_data['ebooks_12m'])\n",
    "csv_data['ebooks_12m'] = le.transform(csv_data['ebooks_12m'])"
   ]
  },
  {
   "cell_type": "code",
   "execution_count": 79,
   "metadata": {},
   "outputs": [
    {
     "output_type": "execute_result",
     "data": {
      "text/plain": [
       "Purchased the book                                  1266\n",
       "Borrowed the book from a friend or family member     501\n",
       "Borrowed the book from a library                     335\n",
       "Got the book some other way                          309\n",
       "8                                                     25\n",
       "9                                                      6\n",
       "Name: last_book, dtype: int64"
      ]
     },
     "metadata": {},
     "execution_count": 79
    }
   ],
   "source": [
    "csv_data['last_book'].value_counts()"
   ]
  },
  {
   "cell_type": "code",
   "execution_count": 80,
   "metadata": {},
   "outputs": [],
   "source": [
    "# encode the education feature\n",
    "le = LabelEncoder()\n",
    "csv_data['last_book'] = csv_data['last_book'].astype(str)\n",
    "\n",
    "le.fit(csv_data['last_book'])\n",
    "csv_data['last_book'] = le.transform(csv_data['last_book'])"
   ]
  },
  {
   "cell_type": "code",
   "execution_count": 81,
   "metadata": {},
   "outputs": [
    {
     "output_type": "execute_result",
     "data": {
      "text/plain": [
       "Yes           1750\n",
       "No            1077\n",
       "Don’t know       5\n",
       "Name: daily_or_newspaper, dtype: int64"
      ]
     },
     "metadata": {},
     "execution_count": 81
    }
   ],
   "source": [
    "csv_data['daily_or_newspaper'].value_counts()"
   ]
  },
  {
   "cell_type": "code",
   "execution_count": 82,
   "metadata": {},
   "outputs": [],
   "source": [
    "# encode the education feature\n",
    "le = LabelEncoder()\n",
    "csv_data['daily_or_newspaper'] = csv_data['daily_or_newspaper'].astype(str)\n",
    "\n",
    "le.fit(csv_data['daily_or_newspaper'])\n",
    "csv_data['daily_or_newspaper'] = le.transform(csv_data['daily_or_newspaper'])"
   ]
  },
  {
   "cell_type": "code",
   "execution_count": 83,
   "metadata": {},
   "outputs": [
    {
     "output_type": "execute_result",
     "data": {
      "text/plain": [
       "Yes           1506\n",
       "No            1322\n",
       "Don’t know       4\n",
       "Name: mag_journals, dtype: int64"
      ]
     },
     "metadata": {},
     "execution_count": 83
    }
   ],
   "source": [
    "csv_data['mag_journals'].value_counts()"
   ]
  },
  {
   "cell_type": "code",
   "execution_count": 84,
   "metadata": {},
   "outputs": [],
   "source": [
    "# encode the education feature\n",
    "le = LabelEncoder()\n",
    "csv_data['mag_journals'] = csv_data['mag_journals'].astype(str)\n",
    "\n",
    "le.fit(csv_data['mag_journals'])\n",
    "csv_data['mag_journals'] = le.transform(csv_data['mag_journals'])\n",
    "\n"
   ]
  },
  {
   "cell_type": "code",
   "execution_count": 85,
   "metadata": {},
   "outputs": [
    {
     "output_type": "stream",
     "name": "stdout",
     "text": [
      "<class 'pandas.core.frame.DataFrame'>\nRangeIndex: 2832 entries, 0 to 2831\nData columns (total 14 columns):\n #   Column              Non-Null Count  Dtype\n---  ------              --------------  -----\n 0   age                 2832 non-null   int64\n 1   sex                 2832 non-null   int64\n 2   race                2832 non-null   int64\n 3   marital_status      2832 non-null   int64\n 4   education           2832 non-null   int64\n 5   employement         2832 non-null   int64\n 6   incomes             2832 non-null   int64\n 7   books_12m           2832 non-null   int64\n 8   printbooks_12m      2832 non-null   int64\n 9   audiobooks_12m      2832 non-null   int64\n 10  ebooks_12m          2832 non-null   int64\n 11  last_book           2832 non-null   int64\n 12  daily_or_newspaper  2832 non-null   int64\n 13  mag_journals        2832 non-null   int64\ndtypes: int64(14)\nmemory usage: 309.9 KB\n"
     ]
    }
   ],
   "source": [
    "csv_data.info()"
   ]
  },
  {
   "cell_type": "code",
   "execution_count": 86,
   "metadata": {},
   "outputs": [
    {
     "output_type": "stream",
     "name": "stdout",
     "text": [
      "['age', 'books_12m']\n"
     ]
    },
    {
     "output_type": "execute_result",
     "data": {
      "text/plain": [
       "        age  sex  race  marital_status  education  employement  incomes  \\\n",
       "0  1.008689    1     6               0          0            6        2   \n",
       "1 -0.068768    1     4               3          2            1        7   \n",
       "2 -0.822987    1     3               4          2            1        7   \n",
       "3 -1.092351    1     3               3          2            1        4   \n",
       "\n",
       "   books_12m  printbooks_12m  audiobooks_12m  ebooks_12m  last_book  \\\n",
       "0   3.399532               2               1           2          5   \n",
       "1   3.399532               2               2           2          5   \n",
       "2   3.399532               1               2           2          2   \n",
       "3   3.399532               2               1           2          3   \n",
       "\n",
       "   daily_or_newspaper  mag_journals  \n",
       "0                   1             2  \n",
       "1                   2             2  \n",
       "2                   2             2  \n",
       "3                   2             1  "
      ],
      "text/html": "<div>\n<style scoped>\n    .dataframe tbody tr th:only-of-type {\n        vertical-align: middle;\n    }\n\n    .dataframe tbody tr th {\n        vertical-align: top;\n    }\n\n    .dataframe thead th {\n        text-align: right;\n    }\n</style>\n<table border=\"1\" class=\"dataframe\">\n  <thead>\n    <tr style=\"text-align: right;\">\n      <th></th>\n      <th>age</th>\n      <th>sex</th>\n      <th>race</th>\n      <th>marital_status</th>\n      <th>education</th>\n      <th>employement</th>\n      <th>incomes</th>\n      <th>books_12m</th>\n      <th>printbooks_12m</th>\n      <th>audiobooks_12m</th>\n      <th>ebooks_12m</th>\n      <th>last_book</th>\n      <th>daily_or_newspaper</th>\n      <th>mag_journals</th>\n    </tr>\n  </thead>\n  <tbody>\n    <tr>\n      <th>0</th>\n      <td>1.008689</td>\n      <td>1</td>\n      <td>6</td>\n      <td>0</td>\n      <td>0</td>\n      <td>6</td>\n      <td>2</td>\n      <td>3.399532</td>\n      <td>2</td>\n      <td>1</td>\n      <td>2</td>\n      <td>5</td>\n      <td>1</td>\n      <td>2</td>\n    </tr>\n    <tr>\n      <th>1</th>\n      <td>-0.068768</td>\n      <td>1</td>\n      <td>4</td>\n      <td>3</td>\n      <td>2</td>\n      <td>1</td>\n      <td>7</td>\n      <td>3.399532</td>\n      <td>2</td>\n      <td>2</td>\n      <td>2</td>\n      <td>5</td>\n      <td>2</td>\n      <td>2</td>\n    </tr>\n    <tr>\n      <th>2</th>\n      <td>-0.822987</td>\n      <td>1</td>\n      <td>3</td>\n      <td>4</td>\n      <td>2</td>\n      <td>1</td>\n      <td>7</td>\n      <td>3.399532</td>\n      <td>1</td>\n      <td>2</td>\n      <td>2</td>\n      <td>2</td>\n      <td>2</td>\n      <td>2</td>\n    </tr>\n    <tr>\n      <th>3</th>\n      <td>-1.092351</td>\n      <td>1</td>\n      <td>3</td>\n      <td>3</td>\n      <td>2</td>\n      <td>1</td>\n      <td>4</td>\n      <td>3.399532</td>\n      <td>2</td>\n      <td>1</td>\n      <td>2</td>\n      <td>3</td>\n      <td>2</td>\n      <td>1</td>\n    </tr>\n  </tbody>\n</table>\n</div>"
     },
     "metadata": {},
     "execution_count": 86
    }
   ],
   "source": [
    "# list of all float columns\n",
    "float_columns = [x for x in csv_data.columns if x not in ['sex','race','marital_status','education','employement','incomes','printbooks_12m','ebooks_12m','audiobooks_12m','last_book','daily_or_newspaper', 'mag_journals']]\n",
    "print(float_columns)\n",
    "from sklearn.preprocessing import StandardScaler\n",
    "\n",
    "sc = StandardScaler()\n",
    "scaled_data = csv_data.copy()\n",
    "scaled_data[float_columns] = sc.fit_transform(csv_data[float_columns])\n",
    "scaled_data.head(4)\n"
   ]
  },
  {
   "cell_type": "code",
   "execution_count": 87,
   "metadata": {},
   "outputs": [
    {
     "output_type": "execute_result",
     "data": {
      "text/plain": [
       "   age  sex  race  marital_status  education  employement  incomes  books_12m  \\\n",
       "0   66    1     6               0          0            6        2         97   \n",
       "1   46    1     4               3          2            1        7         97   \n",
       "2   32    1     3               4          2            1        7         97   \n",
       "3   27    1     3               3          2            1        4         97   \n",
       "4   16    0     3               4          3            2        0         97   \n",
       "\n",
       "   printbooks_12m  audiobooks_12m  ebooks_12m  last_book  daily_or_newspaper  \\\n",
       "0               2               1           2          5                   1   \n",
       "1               2               2           2          5                   2   \n",
       "2               1               2           2          2                   2   \n",
       "3               2               1           2          3                   2   \n",
       "4               2               2           1          5                   2   \n",
       "\n",
       "   mag_journals  cluster  \n",
       "0             2        2  \n",
       "1             2        2  \n",
       "2             2        2  \n",
       "3             1        2  \n",
       "4             1        2  "
      ],
      "text/html": "<div>\n<style scoped>\n    .dataframe tbody tr th:only-of-type {\n        vertical-align: middle;\n    }\n\n    .dataframe tbody tr th {\n        vertical-align: top;\n    }\n\n    .dataframe thead th {\n        text-align: right;\n    }\n</style>\n<table border=\"1\" class=\"dataframe\">\n  <thead>\n    <tr style=\"text-align: right;\">\n      <th></th>\n      <th>age</th>\n      <th>sex</th>\n      <th>race</th>\n      <th>marital_status</th>\n      <th>education</th>\n      <th>employement</th>\n      <th>incomes</th>\n      <th>books_12m</th>\n      <th>printbooks_12m</th>\n      <th>audiobooks_12m</th>\n      <th>ebooks_12m</th>\n      <th>last_book</th>\n      <th>daily_or_newspaper</th>\n      <th>mag_journals</th>\n      <th>cluster</th>\n    </tr>\n  </thead>\n  <tbody>\n    <tr>\n      <th>0</th>\n      <td>66</td>\n      <td>1</td>\n      <td>6</td>\n      <td>0</td>\n      <td>0</td>\n      <td>6</td>\n      <td>2</td>\n      <td>97</td>\n      <td>2</td>\n      <td>1</td>\n      <td>2</td>\n      <td>5</td>\n      <td>1</td>\n      <td>2</td>\n      <td>2</td>\n    </tr>\n    <tr>\n      <th>1</th>\n      <td>46</td>\n      <td>1</td>\n      <td>4</td>\n      <td>3</td>\n      <td>2</td>\n      <td>1</td>\n      <td>7</td>\n      <td>97</td>\n      <td>2</td>\n      <td>2</td>\n      <td>2</td>\n      <td>5</td>\n      <td>2</td>\n      <td>2</td>\n      <td>2</td>\n    </tr>\n    <tr>\n      <th>2</th>\n      <td>32</td>\n      <td>1</td>\n      <td>3</td>\n      <td>4</td>\n      <td>2</td>\n      <td>1</td>\n      <td>7</td>\n      <td>97</td>\n      <td>1</td>\n      <td>2</td>\n      <td>2</td>\n      <td>2</td>\n      <td>2</td>\n      <td>2</td>\n      <td>2</td>\n    </tr>\n    <tr>\n      <th>3</th>\n      <td>27</td>\n      <td>1</td>\n      <td>3</td>\n      <td>3</td>\n      <td>2</td>\n      <td>1</td>\n      <td>4</td>\n      <td>97</td>\n      <td>2</td>\n      <td>1</td>\n      <td>2</td>\n      <td>3</td>\n      <td>2</td>\n      <td>1</td>\n      <td>2</td>\n    </tr>\n    <tr>\n      <th>4</th>\n      <td>16</td>\n      <td>0</td>\n      <td>3</td>\n      <td>4</td>\n      <td>3</td>\n      <td>2</td>\n      <td>0</td>\n      <td>97</td>\n      <td>2</td>\n      <td>2</td>\n      <td>1</td>\n      <td>5</td>\n      <td>2</td>\n      <td>1</td>\n      <td>2</td>\n    </tr>\n  </tbody>\n</table>\n</div>"
     },
     "metadata": {},
     "execution_count": 87
    }
   ],
   "source": [
    "from sklearn.cluster import KMeans\n",
    "\n",
    "#from sklearn.cluster import cluster\n",
    "\n",
    "km = KMeans(n_clusters=4,random_state = 42)\n",
    "km.fit(scaled_data[float_columns])\n",
    "\n",
    "# add kmeans_color column to the dataframe\n",
    "csv_data['cluster'] = km.predict(scaled_data[float_columns])\n",
    "csv_data.head()"
   ]
  },
  {
   "cell_type": "code",
   "execution_count": 88,
   "metadata": {},
   "outputs": [
    {
     "output_type": "stream",
     "name": "stdout",
     "text": [
      "3    954\n1    847\n0    742\n2    289\nName: cluster, dtype: int64\n"
     ]
    }
   ],
   "source": [
    "\n",
    "print(csv_data.cluster.value_counts())\n"
   ]
  },
  {
   "cell_type": "code",
   "execution_count": 89,
   "metadata": {},
   "outputs": [
    {
     "output_type": "display_data",
     "data": {
      "text/plain": "<Figure size 432x288 with 1 Axes>",
      "image/svg+xml": "<?xml version=\"1.0\" encoding=\"utf-8\" standalone=\"no\"?>\n<!DOCTYPE svg PUBLIC \"-//W3C//DTD SVG 1.1//EN\"\n  \"http://www.w3.org/Graphics/SVG/1.1/DTD/svg11.dtd\">\n<!-- Created with matplotlib (https://matplotlib.org/) -->\n<svg height=\"277.314375pt\" version=\"1.1\" viewBox=\"0 0 403.279687 277.314375\" width=\"403.279687pt\" xmlns=\"http://www.w3.org/2000/svg\" xmlns:xlink=\"http://www.w3.org/1999/xlink\">\n <defs>\n  <style type=\"text/css\">\n*{stroke-linecap:butt;stroke-linejoin:round;}\n  </style>\n </defs>\n <g id=\"figure_1\">\n  <g id=\"patch_1\">\n   <path d=\"M 0 277.314375 \nL 403.279687 277.314375 \nL 403.279687 0 \nL 0 0 \nz\n\" style=\"fill:none;\"/>\n  </g>\n  <g id=\"axes_1\">\n   <g id=\"patch_2\">\n    <path d=\"M 53.328125 239.758125 \nL 388.128125 239.758125 \nL 388.128125 22.318125 \nL 53.328125 22.318125 \nz\n\" style=\"fill:#ffffff;\"/>\n   </g>\n   <g id=\"patch_3\">\n    <path clip-path=\"url(#p15d1e07993)\" d=\"M 53.328125 239.758125 \nL 137.028125 239.758125 \nL 137.028125 159.087885 \nL 53.328125 159.087885 \nz\n\" style=\"fill:#008080;opacity:0.5;stroke:#ffffff;stroke-linejoin:miter;stroke-width:1.5;\"/>\n   </g>\n   <g id=\"patch_4\">\n    <path clip-path=\"url(#p15d1e07993)\" d=\"M 137.028125 239.758125 \nL 220.728125 239.758125 \nL 220.728125 147.672285 \nL 137.028125 147.672285 \nz\n\" style=\"fill:#0000ff;opacity:0.5;stroke:#ffffff;stroke-linejoin:miter;stroke-width:1.5;\"/>\n   </g>\n   <g id=\"patch_5\">\n    <path clip-path=\"url(#p15d1e07993)\" d=\"M 220.728125 239.758125 \nL 304.428125 239.758125 \nL 304.428125 208.338045 \nL 220.728125 208.338045 \nz\n\" style=\"fill:#ff0000;opacity:0.5;stroke:#ffffff;stroke-linejoin:miter;stroke-width:1.5;\"/>\n   </g>\n   <g id=\"patch_6\">\n    <path clip-path=\"url(#p15d1e07993)\" d=\"M 304.428125 239.758125 \nL 388.128125 239.758125 \nL 388.128125 136.039245 \nL 304.428125 136.039245 \nz\n\" style=\"fill:#800080;opacity:0.5;stroke:#ffffff;stroke-linejoin:miter;stroke-width:1.5;\"/>\n   </g>\n   <g id=\"matplotlib.axis_1\">\n    <g id=\"xtick_1\">\n     <g id=\"line2d_1\">\n      <defs>\n       <path d=\"M 0 0 \nL 0 3.5 \n\" id=\"m14ee7c5e00\" style=\"stroke:#000000;stroke-width:0.8;\"/>\n      </defs>\n      <g>\n       <use style=\"stroke:#000000;stroke-width:0.8;\" x=\"53.328125\" xlink:href=\"#m14ee7c5e00\" y=\"239.758125\"/>\n      </g>\n     </g>\n     <g id=\"text_1\">\n      <!-- 0.0 -->\n      <defs>\n       <path d=\"M 31.78125 66.40625 \nQ 24.171875 66.40625 20.328125 58.90625 \nQ 16.5 51.421875 16.5 36.375 \nQ 16.5 21.390625 20.328125 13.890625 \nQ 24.171875 6.390625 31.78125 6.390625 \nQ 39.453125 6.390625 43.28125 13.890625 \nQ 47.125 21.390625 47.125 36.375 \nQ 47.125 51.421875 43.28125 58.90625 \nQ 39.453125 66.40625 31.78125 66.40625 \nz\nM 31.78125 74.21875 \nQ 44.046875 74.21875 50.515625 64.515625 \nQ 56.984375 54.828125 56.984375 36.375 \nQ 56.984375 17.96875 50.515625 8.265625 \nQ 44.046875 -1.421875 31.78125 -1.421875 \nQ 19.53125 -1.421875 13.0625 8.265625 \nQ 6.59375 17.96875 6.59375 36.375 \nQ 6.59375 54.828125 13.0625 64.515625 \nQ 19.53125 74.21875 31.78125 74.21875 \nz\n\" id=\"DejaVuSans-48\"/>\n       <path d=\"M 10.6875 12.40625 \nL 21 12.40625 \nL 21 0 \nL 10.6875 0 \nz\n\" id=\"DejaVuSans-46\"/>\n      </defs>\n      <g transform=\"translate(45.376563 254.356562)scale(0.1 -0.1)\">\n       <use xlink:href=\"#DejaVuSans-48\"/>\n       <use x=\"63.623047\" xlink:href=\"#DejaVuSans-46\"/>\n       <use x=\"95.410156\" xlink:href=\"#DejaVuSans-48\"/>\n      </g>\n     </g>\n    </g>\n    <g id=\"xtick_2\">\n     <g id=\"line2d_2\">\n      <g>\n       <use style=\"stroke:#000000;stroke-width:0.8;\" x=\"109.128125\" xlink:href=\"#m14ee7c5e00\" y=\"239.758125\"/>\n      </g>\n     </g>\n     <g id=\"text_2\">\n      <!-- 0.5 -->\n      <defs>\n       <path d=\"M 10.796875 72.90625 \nL 49.515625 72.90625 \nL 49.515625 64.59375 \nL 19.828125 64.59375 \nL 19.828125 46.734375 \nQ 21.96875 47.46875 24.109375 47.828125 \nQ 26.265625 48.1875 28.421875 48.1875 \nQ 40.625 48.1875 47.75 41.5 \nQ 54.890625 34.8125 54.890625 23.390625 \nQ 54.890625 11.625 47.5625 5.09375 \nQ 40.234375 -1.421875 26.90625 -1.421875 \nQ 22.3125 -1.421875 17.546875 -0.640625 \nQ 12.796875 0.140625 7.71875 1.703125 \nL 7.71875 11.625 \nQ 12.109375 9.234375 16.796875 8.0625 \nQ 21.484375 6.890625 26.703125 6.890625 \nQ 35.15625 6.890625 40.078125 11.328125 \nQ 45.015625 15.765625 45.015625 23.390625 \nQ 45.015625 31 40.078125 35.4375 \nQ 35.15625 39.890625 26.703125 39.890625 \nQ 22.75 39.890625 18.8125 39.015625 \nQ 14.890625 38.140625 10.796875 36.28125 \nz\n\" id=\"DejaVuSans-53\"/>\n      </defs>\n      <g transform=\"translate(101.176563 254.356562)scale(0.1 -0.1)\">\n       <use xlink:href=\"#DejaVuSans-48\"/>\n       <use x=\"63.623047\" xlink:href=\"#DejaVuSans-46\"/>\n       <use x=\"95.410156\" xlink:href=\"#DejaVuSans-53\"/>\n      </g>\n     </g>\n    </g>\n    <g id=\"xtick_3\">\n     <g id=\"line2d_3\">\n      <g>\n       <use style=\"stroke:#000000;stroke-width:0.8;\" x=\"164.928125\" xlink:href=\"#m14ee7c5e00\" y=\"239.758125\"/>\n      </g>\n     </g>\n     <g id=\"text_3\">\n      <!-- 1.0 -->\n      <defs>\n       <path d=\"M 12.40625 8.296875 \nL 28.515625 8.296875 \nL 28.515625 63.921875 \nL 10.984375 60.40625 \nL 10.984375 69.390625 \nL 28.421875 72.90625 \nL 38.28125 72.90625 \nL 38.28125 8.296875 \nL 54.390625 8.296875 \nL 54.390625 0 \nL 12.40625 0 \nz\n\" id=\"DejaVuSans-49\"/>\n      </defs>\n      <g transform=\"translate(156.976562 254.356562)scale(0.1 -0.1)\">\n       <use xlink:href=\"#DejaVuSans-49\"/>\n       <use x=\"63.623047\" xlink:href=\"#DejaVuSans-46\"/>\n       <use x=\"95.410156\" xlink:href=\"#DejaVuSans-48\"/>\n      </g>\n     </g>\n    </g>\n    <g id=\"xtick_4\">\n     <g id=\"line2d_4\">\n      <g>\n       <use style=\"stroke:#000000;stroke-width:0.8;\" x=\"220.728125\" xlink:href=\"#m14ee7c5e00\" y=\"239.758125\"/>\n      </g>\n     </g>\n     <g id=\"text_4\">\n      <!-- 1.5 -->\n      <g transform=\"translate(212.776562 254.356562)scale(0.1 -0.1)\">\n       <use xlink:href=\"#DejaVuSans-49\"/>\n       <use x=\"63.623047\" xlink:href=\"#DejaVuSans-46\"/>\n       <use x=\"95.410156\" xlink:href=\"#DejaVuSans-53\"/>\n      </g>\n     </g>\n    </g>\n    <g id=\"xtick_5\">\n     <g id=\"line2d_5\">\n      <g>\n       <use style=\"stroke:#000000;stroke-width:0.8;\" x=\"276.528125\" xlink:href=\"#m14ee7c5e00\" y=\"239.758125\"/>\n      </g>\n     </g>\n     <g id=\"text_5\">\n      <!-- 2.0 -->\n      <defs>\n       <path d=\"M 19.1875 8.296875 \nL 53.609375 8.296875 \nL 53.609375 0 \nL 7.328125 0 \nL 7.328125 8.296875 \nQ 12.9375 14.109375 22.625 23.890625 \nQ 32.328125 33.6875 34.8125 36.53125 \nQ 39.546875 41.84375 41.421875 45.53125 \nQ 43.3125 49.21875 43.3125 52.78125 \nQ 43.3125 58.59375 39.234375 62.25 \nQ 35.15625 65.921875 28.609375 65.921875 \nQ 23.96875 65.921875 18.8125 64.3125 \nQ 13.671875 62.703125 7.8125 59.421875 \nL 7.8125 69.390625 \nQ 13.765625 71.78125 18.9375 73 \nQ 24.125 74.21875 28.421875 74.21875 \nQ 39.75 74.21875 46.484375 68.546875 \nQ 53.21875 62.890625 53.21875 53.421875 \nQ 53.21875 48.921875 51.53125 44.890625 \nQ 49.859375 40.875 45.40625 35.40625 \nQ 44.1875 33.984375 37.640625 27.21875 \nQ 31.109375 20.453125 19.1875 8.296875 \nz\n\" id=\"DejaVuSans-50\"/>\n      </defs>\n      <g transform=\"translate(268.576562 254.356562)scale(0.1 -0.1)\">\n       <use xlink:href=\"#DejaVuSans-50\"/>\n       <use x=\"63.623047\" xlink:href=\"#DejaVuSans-46\"/>\n       <use x=\"95.410156\" xlink:href=\"#DejaVuSans-48\"/>\n      </g>\n     </g>\n    </g>\n    <g id=\"xtick_6\">\n     <g id=\"line2d_6\">\n      <g>\n       <use style=\"stroke:#000000;stroke-width:0.8;\" x=\"332.328125\" xlink:href=\"#m14ee7c5e00\" y=\"239.758125\"/>\n      </g>\n     </g>\n     <g id=\"text_6\">\n      <!-- 2.5 -->\n      <g transform=\"translate(324.376562 254.356562)scale(0.1 -0.1)\">\n       <use xlink:href=\"#DejaVuSans-50\"/>\n       <use x=\"63.623047\" xlink:href=\"#DejaVuSans-46\"/>\n       <use x=\"95.410156\" xlink:href=\"#DejaVuSans-53\"/>\n      </g>\n     </g>\n    </g>\n    <g id=\"xtick_7\">\n     <g id=\"line2d_7\">\n      <g>\n       <use style=\"stroke:#000000;stroke-width:0.8;\" x=\"388.128125\" xlink:href=\"#m14ee7c5e00\" y=\"239.758125\"/>\n      </g>\n     </g>\n     <g id=\"text_7\">\n      <!-- 3.0 -->\n      <defs>\n       <path d=\"M 40.578125 39.3125 \nQ 47.65625 37.796875 51.625 33 \nQ 55.609375 28.21875 55.609375 21.1875 \nQ 55.609375 10.40625 48.1875 4.484375 \nQ 40.765625 -1.421875 27.09375 -1.421875 \nQ 22.515625 -1.421875 17.65625 -0.515625 \nQ 12.796875 0.390625 7.625 2.203125 \nL 7.625 11.71875 \nQ 11.71875 9.328125 16.59375 8.109375 \nQ 21.484375 6.890625 26.8125 6.890625 \nQ 36.078125 6.890625 40.9375 10.546875 \nQ 45.796875 14.203125 45.796875 21.1875 \nQ 45.796875 27.640625 41.28125 31.265625 \nQ 36.765625 34.90625 28.71875 34.90625 \nL 20.21875 34.90625 \nL 20.21875 43.015625 \nL 29.109375 43.015625 \nQ 36.375 43.015625 40.234375 45.921875 \nQ 44.09375 48.828125 44.09375 54.296875 \nQ 44.09375 59.90625 40.109375 62.90625 \nQ 36.140625 65.921875 28.71875 65.921875 \nQ 24.65625 65.921875 20.015625 65.03125 \nQ 15.375 64.15625 9.8125 62.3125 \nL 9.8125 71.09375 \nQ 15.4375 72.65625 20.34375 73.4375 \nQ 25.25 74.21875 29.59375 74.21875 \nQ 40.828125 74.21875 47.359375 69.109375 \nQ 53.90625 64.015625 53.90625 55.328125 \nQ 53.90625 49.265625 50.4375 45.09375 \nQ 46.96875 40.921875 40.578125 39.3125 \nz\n\" id=\"DejaVuSans-51\"/>\n      </defs>\n      <g transform=\"translate(380.176562 254.356562)scale(0.1 -0.1)\">\n       <use xlink:href=\"#DejaVuSans-51\"/>\n       <use x=\"63.623047\" xlink:href=\"#DejaVuSans-46\"/>\n       <use x=\"95.410156\" xlink:href=\"#DejaVuSans-48\"/>\n      </g>\n     </g>\n    </g>\n    <g id=\"text_8\">\n     <!-- Cluster Tag -->\n     <defs>\n      <path d=\"M 64.40625 67.28125 \nL 64.40625 56.890625 \nQ 59.421875 61.53125 53.78125 63.8125 \nQ 48.140625 66.109375 41.796875 66.109375 \nQ 29.296875 66.109375 22.65625 58.46875 \nQ 16.015625 50.828125 16.015625 36.375 \nQ 16.015625 21.96875 22.65625 14.328125 \nQ 29.296875 6.6875 41.796875 6.6875 \nQ 48.140625 6.6875 53.78125 8.984375 \nQ 59.421875 11.28125 64.40625 15.921875 \nL 64.40625 5.609375 \nQ 59.234375 2.09375 53.4375 0.328125 \nQ 47.65625 -1.421875 41.21875 -1.421875 \nQ 24.65625 -1.421875 15.125 8.703125 \nQ 5.609375 18.84375 5.609375 36.375 \nQ 5.609375 53.953125 15.125 64.078125 \nQ 24.65625 74.21875 41.21875 74.21875 \nQ 47.75 74.21875 53.53125 72.484375 \nQ 59.328125 70.75 64.40625 67.28125 \nz\n\" id=\"DejaVuSans-67\"/>\n      <path d=\"M 9.421875 75.984375 \nL 18.40625 75.984375 \nL 18.40625 0 \nL 9.421875 0 \nz\n\" id=\"DejaVuSans-108\"/>\n      <path d=\"M 8.5 21.578125 \nL 8.5 54.6875 \nL 17.484375 54.6875 \nL 17.484375 21.921875 \nQ 17.484375 14.15625 20.5 10.265625 \nQ 23.53125 6.390625 29.59375 6.390625 \nQ 36.859375 6.390625 41.078125 11.03125 \nQ 45.3125 15.671875 45.3125 23.6875 \nL 45.3125 54.6875 \nL 54.296875 54.6875 \nL 54.296875 0 \nL 45.3125 0 \nL 45.3125 8.40625 \nQ 42.046875 3.421875 37.71875 1 \nQ 33.40625 -1.421875 27.6875 -1.421875 \nQ 18.265625 -1.421875 13.375 4.4375 \nQ 8.5 10.296875 8.5 21.578125 \nz\nM 31.109375 56 \nz\n\" id=\"DejaVuSans-117\"/>\n      <path d=\"M 44.28125 53.078125 \nL 44.28125 44.578125 \nQ 40.484375 46.53125 36.375 47.5 \nQ 32.28125 48.484375 27.875 48.484375 \nQ 21.1875 48.484375 17.84375 46.4375 \nQ 14.5 44.390625 14.5 40.28125 \nQ 14.5 37.15625 16.890625 35.375 \nQ 19.28125 33.59375 26.515625 31.984375 \nL 29.59375 31.296875 \nQ 39.15625 29.25 43.1875 25.515625 \nQ 47.21875 21.78125 47.21875 15.09375 \nQ 47.21875 7.46875 41.1875 3.015625 \nQ 35.15625 -1.421875 24.609375 -1.421875 \nQ 20.21875 -1.421875 15.453125 -0.5625 \nQ 10.6875 0.296875 5.421875 2 \nL 5.421875 11.28125 \nQ 10.40625 8.6875 15.234375 7.390625 \nQ 20.0625 6.109375 24.8125 6.109375 \nQ 31.15625 6.109375 34.5625 8.28125 \nQ 37.984375 10.453125 37.984375 14.40625 \nQ 37.984375 18.0625 35.515625 20.015625 \nQ 33.0625 21.96875 24.703125 23.78125 \nL 21.578125 24.515625 \nQ 13.234375 26.265625 9.515625 29.90625 \nQ 5.8125 33.546875 5.8125 39.890625 \nQ 5.8125 47.609375 11.28125 51.796875 \nQ 16.75 56 26.8125 56 \nQ 31.78125 56 36.171875 55.265625 \nQ 40.578125 54.546875 44.28125 53.078125 \nz\n\" id=\"DejaVuSans-115\"/>\n      <path d=\"M 18.3125 70.21875 \nL 18.3125 54.6875 \nL 36.8125 54.6875 \nL 36.8125 47.703125 \nL 18.3125 47.703125 \nL 18.3125 18.015625 \nQ 18.3125 11.328125 20.140625 9.421875 \nQ 21.96875 7.515625 27.59375 7.515625 \nL 36.8125 7.515625 \nL 36.8125 0 \nL 27.59375 0 \nQ 17.1875 0 13.234375 3.875 \nQ 9.28125 7.765625 9.28125 18.015625 \nL 9.28125 47.703125 \nL 2.6875 47.703125 \nL 2.6875 54.6875 \nL 9.28125 54.6875 \nL 9.28125 70.21875 \nz\n\" id=\"DejaVuSans-116\"/>\n      <path d=\"M 56.203125 29.59375 \nL 56.203125 25.203125 \nL 14.890625 25.203125 \nQ 15.484375 15.921875 20.484375 11.0625 \nQ 25.484375 6.203125 34.421875 6.203125 \nQ 39.59375 6.203125 44.453125 7.46875 \nQ 49.3125 8.734375 54.109375 11.28125 \nL 54.109375 2.78125 \nQ 49.265625 0.734375 44.1875 -0.34375 \nQ 39.109375 -1.421875 33.890625 -1.421875 \nQ 20.796875 -1.421875 13.15625 6.1875 \nQ 5.515625 13.8125 5.515625 26.8125 \nQ 5.515625 40.234375 12.765625 48.109375 \nQ 20.015625 56 32.328125 56 \nQ 43.359375 56 49.78125 48.890625 \nQ 56.203125 41.796875 56.203125 29.59375 \nz\nM 47.21875 32.234375 \nQ 47.125 39.59375 43.09375 43.984375 \nQ 39.0625 48.390625 32.421875 48.390625 \nQ 24.90625 48.390625 20.390625 44.140625 \nQ 15.875 39.890625 15.1875 32.171875 \nz\n\" id=\"DejaVuSans-101\"/>\n      <path d=\"M 41.109375 46.296875 \nQ 39.59375 47.171875 37.8125 47.578125 \nQ 36.03125 48 33.890625 48 \nQ 26.265625 48 22.1875 43.046875 \nQ 18.109375 38.09375 18.109375 28.8125 \nL 18.109375 0 \nL 9.078125 0 \nL 9.078125 54.6875 \nL 18.109375 54.6875 \nL 18.109375 46.1875 \nQ 20.953125 51.171875 25.484375 53.578125 \nQ 30.03125 56 36.53125 56 \nQ 37.453125 56 38.578125 55.875 \nQ 39.703125 55.765625 41.0625 55.515625 \nz\n\" id=\"DejaVuSans-114\"/>\n      <path id=\"DejaVuSans-32\"/>\n      <path d=\"M -0.296875 72.90625 \nL 61.375 72.90625 \nL 61.375 64.59375 \nL 35.5 64.59375 \nL 35.5 0 \nL 25.59375 0 \nL 25.59375 64.59375 \nL -0.296875 64.59375 \nz\n\" id=\"DejaVuSans-84\"/>\n      <path d=\"M 34.28125 27.484375 \nQ 23.390625 27.484375 19.1875 25 \nQ 14.984375 22.515625 14.984375 16.5 \nQ 14.984375 11.71875 18.140625 8.90625 \nQ 21.296875 6.109375 26.703125 6.109375 \nQ 34.1875 6.109375 38.703125 11.40625 \nQ 43.21875 16.703125 43.21875 25.484375 \nL 43.21875 27.484375 \nz\nM 52.203125 31.203125 \nL 52.203125 0 \nL 43.21875 0 \nL 43.21875 8.296875 \nQ 40.140625 3.328125 35.546875 0.953125 \nQ 30.953125 -1.421875 24.3125 -1.421875 \nQ 15.921875 -1.421875 10.953125 3.296875 \nQ 6 8.015625 6 15.921875 \nQ 6 25.140625 12.171875 29.828125 \nQ 18.359375 34.515625 30.609375 34.515625 \nL 43.21875 34.515625 \nL 43.21875 35.40625 \nQ 43.21875 41.609375 39.140625 45 \nQ 35.0625 48.390625 27.6875 48.390625 \nQ 23 48.390625 18.546875 47.265625 \nQ 14.109375 46.140625 10.015625 43.890625 \nL 10.015625 52.203125 \nQ 14.9375 54.109375 19.578125 55.046875 \nQ 24.21875 56 28.609375 56 \nQ 40.484375 56 46.34375 49.84375 \nQ 52.203125 43.703125 52.203125 31.203125 \nz\n\" id=\"DejaVuSans-97\"/>\n      <path d=\"M 45.40625 27.984375 \nQ 45.40625 37.75 41.375 43.109375 \nQ 37.359375 48.484375 30.078125 48.484375 \nQ 22.859375 48.484375 18.828125 43.109375 \nQ 14.796875 37.75 14.796875 27.984375 \nQ 14.796875 18.265625 18.828125 12.890625 \nQ 22.859375 7.515625 30.078125 7.515625 \nQ 37.359375 7.515625 41.375 12.890625 \nQ 45.40625 18.265625 45.40625 27.984375 \nz\nM 54.390625 6.78125 \nQ 54.390625 -7.171875 48.1875 -13.984375 \nQ 42 -20.796875 29.203125 -20.796875 \nQ 24.46875 -20.796875 20.265625 -20.09375 \nQ 16.0625 -19.390625 12.109375 -17.921875 \nL 12.109375 -9.1875 \nQ 16.0625 -11.328125 19.921875 -12.34375 \nQ 23.78125 -13.375 27.78125 -13.375 \nQ 36.625 -13.375 41.015625 -8.765625 \nQ 45.40625 -4.15625 45.40625 5.171875 \nL 45.40625 9.625 \nQ 42.625 4.78125 38.28125 2.390625 \nQ 33.9375 0 27.875 0 \nQ 17.828125 0 11.671875 7.65625 \nQ 5.515625 15.328125 5.515625 27.984375 \nQ 5.515625 40.671875 11.671875 48.328125 \nQ 17.828125 56 27.875 56 \nQ 33.9375 56 38.28125 53.609375 \nQ 42.625 51.21875 45.40625 46.390625 \nL 45.40625 54.6875 \nL 54.390625 54.6875 \nz\n\" id=\"DejaVuSans-103\"/>\n     </defs>\n     <g transform=\"translate(192.925781 268.034687)scale(0.1 -0.1)\">\n      <use xlink:href=\"#DejaVuSans-67\"/>\n      <use x=\"69.824219\" xlink:href=\"#DejaVuSans-108\"/>\n      <use x=\"97.607422\" xlink:href=\"#DejaVuSans-117\"/>\n      <use x=\"160.986328\" xlink:href=\"#DejaVuSans-115\"/>\n      <use x=\"213.085938\" xlink:href=\"#DejaVuSans-116\"/>\n      <use x=\"252.294922\" xlink:href=\"#DejaVuSans-101\"/>\n      <use x=\"313.818359\" xlink:href=\"#DejaVuSans-114\"/>\n      <use x=\"354.931641\" xlink:href=\"#DejaVuSans-32\"/>\n      <use x=\"386.71875\" xlink:href=\"#DejaVuSans-84\"/>\n      <use x=\"431.302734\" xlink:href=\"#DejaVuSans-97\"/>\n      <use x=\"492.582031\" xlink:href=\"#DejaVuSans-103\"/>\n     </g>\n    </g>\n   </g>\n   <g id=\"matplotlib.axis_2\">\n    <g id=\"ytick_1\">\n     <g id=\"line2d_8\">\n      <defs>\n       <path d=\"M 0 0 \nL -3.5 0 \n\" id=\"mb2aedbbc77\" style=\"stroke:#000000;stroke-width:0.8;\"/>\n      </defs>\n      <g>\n       <use style=\"stroke:#000000;stroke-width:0.8;\" x=\"53.328125\" xlink:href=\"#mb2aedbbc77\" y=\"239.758125\"/>\n      </g>\n     </g>\n     <g id=\"text_9\">\n      <!-- 0 -->\n      <g transform=\"translate(39.965625 243.557344)scale(0.1 -0.1)\">\n       <use xlink:href=\"#DejaVuSans-48\"/>\n      </g>\n     </g>\n    </g>\n    <g id=\"ytick_2\">\n     <g id=\"line2d_9\">\n      <g>\n       <use style=\"stroke:#000000;stroke-width:0.8;\" x=\"53.328125\" xlink:href=\"#mb2aedbbc77\" y=\"212.578125\"/>\n      </g>\n     </g>\n     <g id=\"text_10\">\n      <!-- 250 -->\n      <g transform=\"translate(27.240625 216.377344)scale(0.1 -0.1)\">\n       <use xlink:href=\"#DejaVuSans-50\"/>\n       <use x=\"63.623047\" xlink:href=\"#DejaVuSans-53\"/>\n       <use x=\"127.246094\" xlink:href=\"#DejaVuSans-48\"/>\n      </g>\n     </g>\n    </g>\n    <g id=\"ytick_3\">\n     <g id=\"line2d_10\">\n      <g>\n       <use style=\"stroke:#000000;stroke-width:0.8;\" x=\"53.328125\" xlink:href=\"#mb2aedbbc77\" y=\"185.398125\"/>\n      </g>\n     </g>\n     <g id=\"text_11\">\n      <!-- 500 -->\n      <g transform=\"translate(27.240625 189.197344)scale(0.1 -0.1)\">\n       <use xlink:href=\"#DejaVuSans-53\"/>\n       <use x=\"63.623047\" xlink:href=\"#DejaVuSans-48\"/>\n       <use x=\"127.246094\" xlink:href=\"#DejaVuSans-48\"/>\n      </g>\n     </g>\n    </g>\n    <g id=\"ytick_4\">\n     <g id=\"line2d_11\">\n      <g>\n       <use style=\"stroke:#000000;stroke-width:0.8;\" x=\"53.328125\" xlink:href=\"#mb2aedbbc77\" y=\"158.218125\"/>\n      </g>\n     </g>\n     <g id=\"text_12\">\n      <!-- 750 -->\n      <defs>\n       <path d=\"M 8.203125 72.90625 \nL 55.078125 72.90625 \nL 55.078125 68.703125 \nL 28.609375 0 \nL 18.3125 0 \nL 43.21875 64.59375 \nL 8.203125 64.59375 \nz\n\" id=\"DejaVuSans-55\"/>\n      </defs>\n      <g transform=\"translate(27.240625 162.017344)scale(0.1 -0.1)\">\n       <use xlink:href=\"#DejaVuSans-55\"/>\n       <use x=\"63.623047\" xlink:href=\"#DejaVuSans-53\"/>\n       <use x=\"127.246094\" xlink:href=\"#DejaVuSans-48\"/>\n      </g>\n     </g>\n    </g>\n    <g id=\"ytick_5\">\n     <g id=\"line2d_12\">\n      <g>\n       <use style=\"stroke:#000000;stroke-width:0.8;\" x=\"53.328125\" xlink:href=\"#mb2aedbbc77\" y=\"131.038125\"/>\n      </g>\n     </g>\n     <g id=\"text_13\">\n      <!-- 1000 -->\n      <g transform=\"translate(20.878125 134.837344)scale(0.1 -0.1)\">\n       <use xlink:href=\"#DejaVuSans-49\"/>\n       <use x=\"63.623047\" xlink:href=\"#DejaVuSans-48\"/>\n       <use x=\"127.246094\" xlink:href=\"#DejaVuSans-48\"/>\n       <use x=\"190.869141\" xlink:href=\"#DejaVuSans-48\"/>\n      </g>\n     </g>\n    </g>\n    <g id=\"ytick_6\">\n     <g id=\"line2d_13\">\n      <g>\n       <use style=\"stroke:#000000;stroke-width:0.8;\" x=\"53.328125\" xlink:href=\"#mb2aedbbc77\" y=\"103.858125\"/>\n      </g>\n     </g>\n     <g id=\"text_14\">\n      <!-- 1250 -->\n      <g transform=\"translate(20.878125 107.657344)scale(0.1 -0.1)\">\n       <use xlink:href=\"#DejaVuSans-49\"/>\n       <use x=\"63.623047\" xlink:href=\"#DejaVuSans-50\"/>\n       <use x=\"127.246094\" xlink:href=\"#DejaVuSans-53\"/>\n       <use x=\"190.869141\" xlink:href=\"#DejaVuSans-48\"/>\n      </g>\n     </g>\n    </g>\n    <g id=\"ytick_7\">\n     <g id=\"line2d_14\">\n      <g>\n       <use style=\"stroke:#000000;stroke-width:0.8;\" x=\"53.328125\" xlink:href=\"#mb2aedbbc77\" y=\"76.678125\"/>\n      </g>\n     </g>\n     <g id=\"text_15\">\n      <!-- 1500 -->\n      <g transform=\"translate(20.878125 80.477344)scale(0.1 -0.1)\">\n       <use xlink:href=\"#DejaVuSans-49\"/>\n       <use x=\"63.623047\" xlink:href=\"#DejaVuSans-53\"/>\n       <use x=\"127.246094\" xlink:href=\"#DejaVuSans-48\"/>\n       <use x=\"190.869141\" xlink:href=\"#DejaVuSans-48\"/>\n      </g>\n     </g>\n    </g>\n    <g id=\"ytick_8\">\n     <g id=\"line2d_15\">\n      <g>\n       <use style=\"stroke:#000000;stroke-width:0.8;\" x=\"53.328125\" xlink:href=\"#mb2aedbbc77\" y=\"49.498125\"/>\n      </g>\n     </g>\n     <g id=\"text_16\">\n      <!-- 1750 -->\n      <g transform=\"translate(20.878125 53.297344)scale(0.1 -0.1)\">\n       <use xlink:href=\"#DejaVuSans-49\"/>\n       <use x=\"63.623047\" xlink:href=\"#DejaVuSans-55\"/>\n       <use x=\"127.246094\" xlink:href=\"#DejaVuSans-53\"/>\n       <use x=\"190.869141\" xlink:href=\"#DejaVuSans-48\"/>\n      </g>\n     </g>\n    </g>\n    <g id=\"ytick_9\">\n     <g id=\"line2d_16\">\n      <g>\n       <use style=\"stroke:#000000;stroke-width:0.8;\" x=\"53.328125\" xlink:href=\"#mb2aedbbc77\" y=\"22.318125\"/>\n      </g>\n     </g>\n     <g id=\"text_17\">\n      <!-- 2000 -->\n      <g transform=\"translate(20.878125 26.117344)scale(0.1 -0.1)\">\n       <use xlink:href=\"#DejaVuSans-50\"/>\n       <use x=\"63.623047\" xlink:href=\"#DejaVuSans-48\"/>\n       <use x=\"127.246094\" xlink:href=\"#DejaVuSans-48\"/>\n       <use x=\"190.869141\" xlink:href=\"#DejaVuSans-48\"/>\n      </g>\n     </g>\n    </g>\n    <g id=\"text_18\">\n     <!-- Number -->\n     <defs>\n      <path d=\"M 9.8125 72.90625 \nL 23.09375 72.90625 \nL 55.421875 11.921875 \nL 55.421875 72.90625 \nL 64.984375 72.90625 \nL 64.984375 0 \nL 51.703125 0 \nL 19.390625 60.984375 \nL 19.390625 0 \nL 9.8125 0 \nz\n\" id=\"DejaVuSans-78\"/>\n      <path d=\"M 52 44.1875 \nQ 55.375 50.25 60.0625 53.125 \nQ 64.75 56 71.09375 56 \nQ 79.640625 56 84.28125 50.015625 \nQ 88.921875 44.046875 88.921875 33.015625 \nL 88.921875 0 \nL 79.890625 0 \nL 79.890625 32.71875 \nQ 79.890625 40.578125 77.09375 44.375 \nQ 74.3125 48.1875 68.609375 48.1875 \nQ 61.625 48.1875 57.5625 43.546875 \nQ 53.515625 38.921875 53.515625 30.90625 \nL 53.515625 0 \nL 44.484375 0 \nL 44.484375 32.71875 \nQ 44.484375 40.625 41.703125 44.40625 \nQ 38.921875 48.1875 33.109375 48.1875 \nQ 26.21875 48.1875 22.15625 43.53125 \nQ 18.109375 38.875 18.109375 30.90625 \nL 18.109375 0 \nL 9.078125 0 \nL 9.078125 54.6875 \nL 18.109375 54.6875 \nL 18.109375 46.1875 \nQ 21.1875 51.21875 25.484375 53.609375 \nQ 29.78125 56 35.6875 56 \nQ 41.65625 56 45.828125 52.96875 \nQ 50 49.953125 52 44.1875 \nz\n\" id=\"DejaVuSans-109\"/>\n      <path d=\"M 48.6875 27.296875 \nQ 48.6875 37.203125 44.609375 42.84375 \nQ 40.53125 48.484375 33.40625 48.484375 \nQ 26.265625 48.484375 22.1875 42.84375 \nQ 18.109375 37.203125 18.109375 27.296875 \nQ 18.109375 17.390625 22.1875 11.75 \nQ 26.265625 6.109375 33.40625 6.109375 \nQ 40.53125 6.109375 44.609375 11.75 \nQ 48.6875 17.390625 48.6875 27.296875 \nz\nM 18.109375 46.390625 \nQ 20.953125 51.265625 25.265625 53.625 \nQ 29.59375 56 35.59375 56 \nQ 45.5625 56 51.78125 48.09375 \nQ 58.015625 40.1875 58.015625 27.296875 \nQ 58.015625 14.40625 51.78125 6.484375 \nQ 45.5625 -1.421875 35.59375 -1.421875 \nQ 29.59375 -1.421875 25.265625 0.953125 \nQ 20.953125 3.328125 18.109375 8.203125 \nL 18.109375 0 \nL 9.078125 0 \nL 9.078125 75.984375 \nL 18.109375 75.984375 \nz\n\" id=\"DejaVuSans-98\"/>\n     </defs>\n     <g transform=\"translate(14.798438 151.124062)rotate(-90)scale(0.1 -0.1)\">\n      <use xlink:href=\"#DejaVuSans-78\"/>\n      <use x=\"74.804688\" xlink:href=\"#DejaVuSans-117\"/>\n      <use x=\"138.183594\" xlink:href=\"#DejaVuSans-109\"/>\n      <use x=\"235.595703\" xlink:href=\"#DejaVuSans-98\"/>\n      <use x=\"299.072266\" xlink:href=\"#DejaVuSans-101\"/>\n      <use x=\"360.595703\" xlink:href=\"#DejaVuSans-114\"/>\n     </g>\n    </g>\n   </g>\n   <g id=\"patch_7\">\n    <path d=\"M 53.328125 239.758125 \nL 53.328125 22.318125 \n\" style=\"fill:none;stroke:#000000;stroke-linecap:square;stroke-linejoin:miter;stroke-width:0.8;\"/>\n   </g>\n   <g id=\"patch_8\">\n    <path d=\"M 388.128125 239.758125 \nL 388.128125 22.318125 \n\" style=\"fill:none;stroke:#000000;stroke-linecap:square;stroke-linejoin:miter;stroke-width:0.8;\"/>\n   </g>\n   <g id=\"patch_9\">\n    <path d=\"M 53.328125 239.758125 \nL 388.128125 239.758125 \n\" style=\"fill:none;stroke:#000000;stroke-linecap:square;stroke-linejoin:miter;stroke-width:0.8;\"/>\n   </g>\n   <g id=\"patch_10\">\n    <path d=\"M 53.328125 22.318125 \nL 388.128125 22.318125 \n\" style=\"fill:none;stroke:#000000;stroke-linecap:square;stroke-linejoin:miter;stroke-width:0.8;\"/>\n   </g>\n   <g id=\"text_19\">\n    <!-- 742.0 -->\n    <defs>\n     <path d=\"M 37.796875 64.3125 \nL 12.890625 25.390625 \nL 37.796875 25.390625 \nz\nM 35.203125 72.90625 \nL 47.609375 72.90625 \nL 47.609375 25.390625 \nL 58.015625 25.390625 \nL 58.015625 17.1875 \nL 47.609375 17.1875 \nL 47.609375 0 \nL 37.796875 0 \nL 37.796875 17.1875 \nL 4.890625 17.1875 \nL 4.890625 26.703125 \nz\n\" id=\"DejaVuSans-52\"/>\n    </defs>\n    <g transform=\"translate(53.328125 159.087885)scale(0.1 -0.1)\">\n     <use xlink:href=\"#DejaVuSans-55\"/>\n     <use x=\"63.623047\" xlink:href=\"#DejaVuSans-52\"/>\n     <use x=\"127.246094\" xlink:href=\"#DejaVuSans-50\"/>\n     <use x=\"190.869141\" xlink:href=\"#DejaVuSans-46\"/>\n     <use x=\"222.65625\" xlink:href=\"#DejaVuSans-48\"/>\n    </g>\n   </g>\n   <g id=\"text_20\">\n    <!-- 847.0 -->\n    <defs>\n     <path d=\"M 31.78125 34.625 \nQ 24.75 34.625 20.71875 30.859375 \nQ 16.703125 27.09375 16.703125 20.515625 \nQ 16.703125 13.921875 20.71875 10.15625 \nQ 24.75 6.390625 31.78125 6.390625 \nQ 38.8125 6.390625 42.859375 10.171875 \nQ 46.921875 13.96875 46.921875 20.515625 \nQ 46.921875 27.09375 42.890625 30.859375 \nQ 38.875 34.625 31.78125 34.625 \nz\nM 21.921875 38.8125 \nQ 15.578125 40.375 12.03125 44.71875 \nQ 8.5 49.078125 8.5 55.328125 \nQ 8.5 64.0625 14.71875 69.140625 \nQ 20.953125 74.21875 31.78125 74.21875 \nQ 42.671875 74.21875 48.875 69.140625 \nQ 55.078125 64.0625 55.078125 55.328125 \nQ 55.078125 49.078125 51.53125 44.71875 \nQ 48 40.375 41.703125 38.8125 \nQ 48.828125 37.15625 52.796875 32.3125 \nQ 56.78125 27.484375 56.78125 20.515625 \nQ 56.78125 9.90625 50.3125 4.234375 \nQ 43.84375 -1.421875 31.78125 -1.421875 \nQ 19.734375 -1.421875 13.25 4.234375 \nQ 6.78125 9.90625 6.78125 20.515625 \nQ 6.78125 27.484375 10.78125 32.3125 \nQ 14.796875 37.15625 21.921875 38.8125 \nz\nM 18.3125 54.390625 \nQ 18.3125 48.734375 21.84375 45.5625 \nQ 25.390625 42.390625 31.78125 42.390625 \nQ 38.140625 42.390625 41.71875 45.5625 \nQ 45.3125 48.734375 45.3125 54.390625 \nQ 45.3125 60.0625 41.71875 63.234375 \nQ 38.140625 66.40625 31.78125 66.40625 \nQ 25.390625 66.40625 21.84375 63.234375 \nQ 18.3125 60.0625 18.3125 54.390625 \nz\n\" id=\"DejaVuSans-56\"/>\n    </defs>\n    <g transform=\"translate(137.028125 147.672285)scale(0.1 -0.1)\">\n     <use xlink:href=\"#DejaVuSans-56\"/>\n     <use x=\"63.623047\" xlink:href=\"#DejaVuSans-52\"/>\n     <use x=\"127.246094\" xlink:href=\"#DejaVuSans-55\"/>\n     <use x=\"190.869141\" xlink:href=\"#DejaVuSans-46\"/>\n     <use x=\"222.65625\" xlink:href=\"#DejaVuSans-48\"/>\n    </g>\n   </g>\n   <g id=\"text_21\">\n    <!-- 289.0 -->\n    <defs>\n     <path d=\"M 10.984375 1.515625 \nL 10.984375 10.5 \nQ 14.703125 8.734375 18.5 7.8125 \nQ 22.3125 6.890625 25.984375 6.890625 \nQ 35.75 6.890625 40.890625 13.453125 \nQ 46.046875 20.015625 46.78125 33.40625 \nQ 43.953125 29.203125 39.59375 26.953125 \nQ 35.25 24.703125 29.984375 24.703125 \nQ 19.046875 24.703125 12.671875 31.3125 \nQ 6.296875 37.9375 6.296875 49.421875 \nQ 6.296875 60.640625 12.9375 67.421875 \nQ 19.578125 74.21875 30.609375 74.21875 \nQ 43.265625 74.21875 49.921875 64.515625 \nQ 56.59375 54.828125 56.59375 36.375 \nQ 56.59375 19.140625 48.40625 8.859375 \nQ 40.234375 -1.421875 26.421875 -1.421875 \nQ 22.703125 -1.421875 18.890625 -0.6875 \nQ 15.09375 0.046875 10.984375 1.515625 \nz\nM 30.609375 32.421875 \nQ 37.25 32.421875 41.125 36.953125 \nQ 45.015625 41.5 45.015625 49.421875 \nQ 45.015625 57.28125 41.125 61.84375 \nQ 37.25 66.40625 30.609375 66.40625 \nQ 23.96875 66.40625 20.09375 61.84375 \nQ 16.21875 57.28125 16.21875 49.421875 \nQ 16.21875 41.5 20.09375 36.953125 \nQ 23.96875 32.421875 30.609375 32.421875 \nz\n\" id=\"DejaVuSans-57\"/>\n    </defs>\n    <g transform=\"translate(220.728125 208.338045)scale(0.1 -0.1)\">\n     <use xlink:href=\"#DejaVuSans-50\"/>\n     <use x=\"63.623047\" xlink:href=\"#DejaVuSans-56\"/>\n     <use x=\"127.246094\" xlink:href=\"#DejaVuSans-57\"/>\n     <use x=\"190.869141\" xlink:href=\"#DejaVuSans-46\"/>\n     <use x=\"222.65625\" xlink:href=\"#DejaVuSans-48\"/>\n    </g>\n   </g>\n   <g id=\"text_22\">\n    <!-- 954.0 -->\n    <g transform=\"translate(304.428125 136.039245)scale(0.1 -0.1)\">\n     <use xlink:href=\"#DejaVuSans-57\"/>\n     <use x=\"63.623047\" xlink:href=\"#DejaVuSans-53\"/>\n     <use x=\"127.246094\" xlink:href=\"#DejaVuSans-52\"/>\n     <use x=\"190.869141\" xlink:href=\"#DejaVuSans-46\"/>\n     <use x=\"222.65625\" xlink:href=\"#DejaVuSans-48\"/>\n    </g>\n   </g>\n   <g id=\"text_23\">\n    <!-- Customer clusters -->\n    <defs>\n     <path d=\"M 30.609375 48.390625 \nQ 23.390625 48.390625 19.1875 42.75 \nQ 14.984375 37.109375 14.984375 27.296875 \nQ 14.984375 17.484375 19.15625 11.84375 \nQ 23.34375 6.203125 30.609375 6.203125 \nQ 37.796875 6.203125 41.984375 11.859375 \nQ 46.1875 17.53125 46.1875 27.296875 \nQ 46.1875 37.015625 41.984375 42.703125 \nQ 37.796875 48.390625 30.609375 48.390625 \nz\nM 30.609375 56 \nQ 42.328125 56 49.015625 48.375 \nQ 55.71875 40.765625 55.71875 27.296875 \nQ 55.71875 13.875 49.015625 6.21875 \nQ 42.328125 -1.421875 30.609375 -1.421875 \nQ 18.84375 -1.421875 12.171875 6.21875 \nQ 5.515625 13.875 5.515625 27.296875 \nQ 5.515625 40.765625 12.171875 48.375 \nQ 18.84375 56 30.609375 56 \nz\n\" id=\"DejaVuSans-111\"/>\n     <path d=\"M 48.78125 52.59375 \nL 48.78125 44.1875 \nQ 44.96875 46.296875 41.140625 47.34375 \nQ 37.3125 48.390625 33.40625 48.390625 \nQ 24.65625 48.390625 19.8125 42.84375 \nQ 14.984375 37.3125 14.984375 27.296875 \nQ 14.984375 17.28125 19.8125 11.734375 \nQ 24.65625 6.203125 33.40625 6.203125 \nQ 37.3125 6.203125 41.140625 7.25 \nQ 44.96875 8.296875 48.78125 10.40625 \nL 48.78125 2.09375 \nQ 45.015625 0.34375 40.984375 -0.53125 \nQ 36.96875 -1.421875 32.421875 -1.421875 \nQ 20.0625 -1.421875 12.78125 6.34375 \nQ 5.515625 14.109375 5.515625 27.296875 \nQ 5.515625 40.671875 12.859375 48.328125 \nQ 20.21875 56 33.015625 56 \nQ 37.15625 56 41.109375 55.140625 \nQ 45.0625 54.296875 48.78125 52.59375 \nz\n\" id=\"DejaVuSans-99\"/>\n    </defs>\n    <g transform=\"translate(166.146875 16.318125)scale(0.12 -0.12)\">\n     <use xlink:href=\"#DejaVuSans-67\"/>\n     <use x=\"69.824219\" xlink:href=\"#DejaVuSans-117\"/>\n     <use x=\"133.203125\" xlink:href=\"#DejaVuSans-115\"/>\n     <use x=\"185.302734\" xlink:href=\"#DejaVuSans-116\"/>\n     <use x=\"224.511719\" xlink:href=\"#DejaVuSans-111\"/>\n     <use x=\"285.693359\" xlink:href=\"#DejaVuSans-109\"/>\n     <use x=\"383.105469\" xlink:href=\"#DejaVuSans-101\"/>\n     <use x=\"444.628906\" xlink:href=\"#DejaVuSans-114\"/>\n     <use x=\"485.742188\" xlink:href=\"#DejaVuSans-32\"/>\n     <use x=\"517.529297\" xlink:href=\"#DejaVuSans-99\"/>\n     <use x=\"572.509766\" xlink:href=\"#DejaVuSans-108\"/>\n     <use x=\"600.292969\" xlink:href=\"#DejaVuSans-117\"/>\n     <use x=\"663.671875\" xlink:href=\"#DejaVuSans-115\"/>\n     <use x=\"715.771484\" xlink:href=\"#DejaVuSans-116\"/>\n     <use x=\"754.980469\" xlink:href=\"#DejaVuSans-101\"/>\n     <use x=\"816.503906\" xlink:href=\"#DejaVuSans-114\"/>\n     <use x=\"857.617188\" xlink:href=\"#DejaVuSans-115\"/>\n    </g>\n   </g>\n  </g>\n </g>\n <defs>\n  <clipPath id=\"p15d1e07993\">\n   <rect height=\"217.44\" width=\"334.8\" x=\"53.328125\" y=\"22.318125\"/>\n  </clipPath>\n </defs>\n</svg>\n",
      "image/png": "[encoded data removed]"
     },
     "metadata": {
      "needs_background": "light"
     }
    }
   ],
   "source": [
    "n, bins, patches = plt.hist(csv_data['cluster'], 4, facecolor='blue',alpha=0.5,edgecolor='white', linewidth=1.5)\n",
    "\n",
    "plt.xlabel('Cluster Tag')\n",
    "plt.ylabel('Number')\n",
    "plt.title(r'Customer clusters')\n",
    "\n",
    "for i in range(0,1):\n",
    "    patches[i].set_facecolor('teal')\n",
    "for i in range(1,2):    \n",
    "    patches[i].set_facecolor('blue')\n",
    "for i in range(2, 3):\n",
    "    patches[i].set_facecolor('red')\n",
    "for i in range(3, len(patches)):\n",
    "    patches[i].set_facecolor('purple')\n",
    "\n",
    "for i in range(4):\n",
    "    plt.text(bins[i],n[i],str(n[i]))\n",
    "    \n",
    "plt.axis([0, 3, 0, 2000])\n",
    "# Tweak spacing to prevent clipping of ylabel\n",
    "# plt.subplots_adjust(left=0.15)\n",
    "plt.show()\n"
   ]
  },
  {
   "cell_type": "code",
   "execution_count": 90,
   "metadata": {},
   "outputs": [
    {
     "output_type": "execute_result",
     "data": {
      "text/plain": [
       "<pandas.io.formats.style.Styler at 0x7fa3ab6e9850>"
      ],
      "text/html": "<style  type=\"text/css\" >\n    #T_2ee6401a_69e4_11eb_8bb5_acde48001122row0_col0 {\n            background-color:  #fff7fb;\n            color:  #000000;\n        }    #T_2ee6401a_69e4_11eb_8bb5_acde48001122row0_col1 {\n            background-color:  #2081b9;\n            color:  #000000;\n        }    #T_2ee6401a_69e4_11eb_8bb5_acde48001122row0_col2 {\n            background-color:  #023858;\n            color:  #f1f1f1;\n        }    #T_2ee6401a_69e4_11eb_8bb5_acde48001122row1_col0 {\n            background-color:  #b4c4df;\n            color:  #000000;\n        }    #T_2ee6401a_69e4_11eb_8bb5_acde48001122row1_col1 {\n            background-color:  #046097;\n            color:  #f1f1f1;\n        }    #T_2ee6401a_69e4_11eb_8bb5_acde48001122row1_col2 {\n            background-color:  #fff7fb;\n            color:  #000000;\n        }    #T_2ee6401a_69e4_11eb_8bb5_acde48001122row2_col0 {\n            background-color:  #2685bb;\n            color:  #000000;\n        }    #T_2ee6401a_69e4_11eb_8bb5_acde48001122row2_col1 {\n            background-color:  #fff7fb;\n            color:  #000000;\n        }    #T_2ee6401a_69e4_11eb_8bb5_acde48001122row2_col2 {\n            background-color:  #4697c4;\n            color:  #000000;\n        }    #T_2ee6401a_69e4_11eb_8bb5_acde48001122row3_col0 {\n            background-color:  #023858;\n            color:  #f1f1f1;\n        }    #T_2ee6401a_69e4_11eb_8bb5_acde48001122row3_col1 {\n            background-color:  #023858;\n            color:  #f1f1f1;\n        }    #T_2ee6401a_69e4_11eb_8bb5_acde48001122row3_col2 {\n            background-color:  #6da6cd;\n            color:  #000000;\n        }</style><table id=\"T_2ee6401a_69e4_11eb_8bb5_acde48001122\" ><thead>    <tr>        <th class=\"blank level0\" ></th>        <th class=\"col_heading level0 col0\" >avg_age</th>        <th class=\"col_heading level0 col1\" >avg_book_read_last_12mon</th>        <th class=\"col_heading level0 col2\" >book_count</th>    </tr></thead><tbody>\n                <tr>\n                        <th id=\"T_2ee6401a_69e4_11eb_8bb5_acde48001122level0_row0\" class=\"row_heading level0 row0\" >0</th>\n                        <td id=\"T_2ee6401a_69e4_11eb_8bb5_acde48001122row0_col0\" class=\"data row0 col0\" >0</td>\n                        <td id=\"T_2ee6401a_69e4_11eb_8bb5_acde48001122row0_col1\" class=\"data row0 col1\" >742</td>\n                        <td id=\"T_2ee6401a_69e4_11eb_8bb5_acde48001122row0_col2\" class=\"data row0 col2\" >69.466307</td>\n            </tr>\n            <tr>\n                        <th id=\"T_2ee6401a_69e4_11eb_8bb5_acde48001122level0_row1\" class=\"row_heading level0 row1\" >1</th>\n                        <td id=\"T_2ee6401a_69e4_11eb_8bb5_acde48001122row1_col0\" class=\"data row1 col0\" >1</td>\n                        <td id=\"T_2ee6401a_69e4_11eb_8bb5_acde48001122row1_col1\" class=\"data row1 col1\" >847</td>\n                        <td id=\"T_2ee6401a_69e4_11eb_8bb5_acde48001122row1_col2\" class=\"data row1 col2\" >25.453365</td>\n            </tr>\n            <tr>\n                        <th id=\"T_2ee6401a_69e4_11eb_8bb5_acde48001122level0_row2\" class=\"row_heading level0 row2\" >2</th>\n                        <td id=\"T_2ee6401a_69e4_11eb_8bb5_acde48001122row2_col0\" class=\"data row2 col0\" >2</td>\n                        <td id=\"T_2ee6401a_69e4_11eb_8bb5_acde48001122row2_col1\" class=\"data row2 col1\" >289</td>\n                        <td id=\"T_2ee6401a_69e4_11eb_8bb5_acde48001122row2_col2\" class=\"data row2 col2\" >51.539792</td>\n            </tr>\n            <tr>\n                        <th id=\"T_2ee6401a_69e4_11eb_8bb5_acde48001122level0_row3\" class=\"row_heading level0 row3\" >3</th>\n                        <td id=\"T_2ee6401a_69e4_11eb_8bb5_acde48001122row3_col0\" class=\"data row3 col0\" >3</td>\n                        <td id=\"T_2ee6401a_69e4_11eb_8bb5_acde48001122row3_col1\" class=\"data row3 col1\" >954</td>\n                        <td id=\"T_2ee6401a_69e4_11eb_8bb5_acde48001122row3_col2\" class=\"data row3 col2\" >48.101677</td>\n            </tr>\n    </tbody></table>"
     },
     "metadata": {},
     "execution_count": 90
    }
   ],
   "source": [
    "customer_summary = csv_data.groupby('cluster', as_index=False).agg(avg_age=('age', 'mean'),\n",
    "                                                                       avg_book_read_last_12mon= ('books_12m','mean'),\n",
    "                                                                       book_count = ('age', 'count'))\n",
    "# apply background gradient\n",
    "customer_summary.style.background_gradient()"
   ]
  },
  {
   "cell_type": "raw",
   "metadata": {},
   "source": []
  }
 ],
 "metadata": {
  "kernelspec": {
   "display_name": "Python 3",
   "language": "python",
   "name": "python3"
  },
  "language_info": {
   "codemirror_mode": {
    "name": "ipython",
    "version": 3
   },
   "file_extension": ".py",
   "mimetype": "text/x-python",
   "name": "python",
   "nbconvert_exporter": "python",
   "pygments_lexer": "ipython3",
   "version": "3.8.3-final"
  }
 },
 "nbformat": 4,
 "nbformat_minor": 4
}