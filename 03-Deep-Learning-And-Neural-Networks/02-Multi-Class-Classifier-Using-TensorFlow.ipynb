{
 "cells": [
  {
   "source": [
    "## Deep Learning And Neural Networks\n",
    "#### Multi Class Classifier Using TensorFlow\n",
    "###### Aditya Hajare | https://www.linkedin.com/in/aditya-hajare"
   ],
   "cell_type": "markdown",
   "metadata": {}
  },
  {
   "cell_type": "code",
   "execution_count": null,
   "metadata": {},
   "outputs": [],
   "source": [
    "import tensorflow as tf\n",
    "\n",
    "import pandas as pd\n",
    "\n",
    "from sklearn.metrics import accuracy_score"
   ]
  },
  {
   "cell_type": "markdown",
   "metadata": {},
   "source": [
    "# Create the Model"
   ]
  },
  {
   "cell_type": "markdown",
   "metadata": {},
   "source": [
    "### 1. Input layer - Data has 30 features"
   ]
  },
  {
   "cell_type": "code",
   "execution_count": null,
   "metadata": {},
   "outputs": [],
   "source": [
    "#placeholder to read and feed at run time\n",
    "X_input = tf.placeholder(tf.float32,shape=[None,30])\n",
    "\n",
    "#placeholde to feed the labels at runtime\n",
    "Y_label = tf.placeholder(tf.float32,[None,1])"
   ]
  },
  {
   "cell_type": "markdown",
   "metadata": {},
   "source": [
    "### 2. Hidden Layer 1 - 30 neurons"
   ]
  },
  {
   "cell_type": "code",
   "execution_count": null,
   "metadata": {},
   "outputs": [],
   "source": [
    "# first hidden layer\n",
    "W1 = tf.Variable(tf.truncated_normal([30,30],stddev=0.1))\n",
    "b1 = tf.Variable(tf.truncated_normal([30],stddev=0.1))\n",
    "\n",
    "# output of first hidden layer\n",
    "y1 = tf.nn.relu(tf.matmul(X_input,W1) + b1)"
   ]
  },
  {
   "cell_type": "markdown",
   "metadata": {},
   "source": [
    "### 3. Hidden Layer 2 - 18 neurons"
   ]
  },
  {
   "cell_type": "code",
   "execution_count": null,
   "metadata": {},
   "outputs": [],
   "source": [
    "# second hidden layer\n",
    "W2 = tf.Variable(tf.truncated_normal([30,18],stddev=0.1))\n",
    "b2 = tf.Variable(tf.truncated_normal([18],stddev=0.1))\n",
    "\n",
    "# output of first hidden layer\n",
    "y2 = tf.nn.relu(tf.matmul(y1,W2) + b2)"
   ]
  },
  {
   "cell_type": "markdown",
   "metadata": {},
   "source": [
    "### 4. Hidden Layer 3 - 9 neurons"
   ]
  },
  {
   "cell_type": "code",
   "execution_count": null,
   "metadata": {},
   "outputs": [],
   "source": [
    "# third hidden layer\n",
    "W3 = tf.Variable(tf.truncated_normal([18,9],stddev=0.1))\n",
    "b3 = tf.Variable(tf.truncated_normal([9],stddev=0.1))\n",
    "\n",
    "# output of first hidden layer\n",
    "y3 = tf.nn.relu(tf.matmul(y2,W3) + b3)"
   ]
  },
  {
   "cell_type": "markdown",
   "metadata": {},
   "source": [
    "### 5. Hidden Layer 4 - 5 neurons"
   ]
  },
  {
   "cell_type": "code",
   "execution_count": null,
   "metadata": {},
   "outputs": [],
   "source": [
    "#Softmax layer\n",
    "\n",
    "W = tf.Variable(tf.truncated_normal([9,5],stddev=0.1))\n",
    "\n",
    "#1 biases - one for each neuron\n",
    "b = tf.Variable(tf.truncated_normal([5],stddev=0.1))\n",
    "\n",
    "# Net input function of last layer\n",
    "I = tf.matmul(y4,W) + b \n",
    "\n",
    "#activation function - Softmax\n",
    "output=tf.nn.softmax(I)"
   ]
  },
  {
   "cell_type": "code",
   "execution_count": null,
   "metadata": {},
   "outputs": [],
   "source": [
    "# define the cost/loss fns and the optimize\n",
    "loss = tf.reduce_mean(tf.nn.softmax_cross_entropy_with_logits_v2(labels=Y_label, logits=output))\n",
    "\n",
    "#optimizer\n",
    "gdo = tf.train.GradientDescentOptimizer(learning_rate=0.01)\n",
    "train = gdo.minimize(loss)"
   ]
  },
  {
   "cell_type": "code",
   "execution_count": null,
   "metadata": {},
   "outputs": [],
   "source": [
    "init = tf.global_variables_initializer()"
   ]
  },
  {
   "cell_type": "code",
   "execution_count": null,
   "metadata": {},
   "outputs": [],
   "source": [
    "sess = tf.Session()\n",
    "sess.run(init)"
   ]
  },
  {
   "cell_type": "code",
   "execution_count": null,
   "metadata": {},
   "outputs": [],
   "source": [
    "for i in range(1000):\n",
    "    sess.run(train,feed_dict={x:X_input,y:Y_label})"
   ]
  },
  {
   "cell_type": "code",
   "execution_count": null,
   "metadata": {},
   "outputs": [],
   "source": [
    "result = sess.run(output,feed_dict={x:X_input})"
   ]
  },
  {
   "cell_type": "code",
   "execution_count": null,
   "metadata": {},
   "outputs": [],
   "source": [
    "ypred = result.round()"
   ]
  },
  {
   "cell_type": "code",
   "execution_count": null,
   "metadata": {},
   "outputs": [],
   "source": [
    "sess.close()"
   ]
  }
 ],
 "metadata": {
  "kernelspec": {
   "display_name": "Python 3",
   "language": "python",
   "name": "python3"
  },
  "language_info": {
   "codemirror_mode": {
    "name": "ipython",
    "version": 3
   },
   "file_extension": ".py",
   "mimetype": "text/x-python",
   "name": "python",
   "nbconvert_exporter": "python",
   "pygments_lexer": "ipython3",
   "version": "3.7.9"
  }
 },
 "nbformat": 4,
 "nbformat_minor": 5
}