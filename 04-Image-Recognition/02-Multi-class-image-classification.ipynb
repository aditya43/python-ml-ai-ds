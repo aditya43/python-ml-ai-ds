{
 "cells": [
  {
   "source": [
    "## Image Recognition \n",
    "#### Multi class image classification\n",
    "###### Aditya Hajare | https://www.linkedin.com/in/aditya-hajare"
   ],
   "cell_type": "markdown",
   "metadata": {}
  },
  {
   "cell_type": "code",
   "execution_count": 47,
   "metadata": {},
   "outputs": [],
   "source": [
    "from tensorflow import keras\n",
    "from tensorflow.keras.preprocessing.image import ImageDataGenerator\n",
    "from tensorflow.keras.models import Sequential\n",
    "from tensorflow.keras.layers import Conv2D, MaxPooling2D,Activation, Dropout, Flatten, Dense\n",
    "import numpy as np"
   ]
  },
  {
   "cell_type": "code",
   "execution_count": 48,
   "metadata": {},
   "outputs": [],
   "source": [
    "# conv layers\n",
    "model = Sequential()\n",
    "\n",
    "model.add(Conv2D(64,(3,3),input_shape = (200,200,3), activation = 'relu')) \n",
    "model.add(MaxPooling2D(pool_size=(2, 2)))\n",
    "\n",
    "model.add(Conv2D(64,(3,3), activation = 'relu')) \n",
    "model.add(MaxPooling2D(pool_size=(2, 2)))\n",
    "\n",
    "model.add(Conv2D(64,(3,3), activation = 'relu'))\n",
    "model.add(MaxPooling2D(pool_size=(2, 2)))"
   ]
  },
  {
   "cell_type": "code",
   "execution_count": 49,
   "metadata": {},
   "outputs": [],
   "source": [
    "# fully connected layers\n",
    "model.add(Flatten())  \n",
    "\n",
    "model.add(Dense( activation = 'relu', units=64))\n",
    "model.add(Dense( activation = 'softmax', units=4)) "
   ]
  },
  {
   "cell_type": "code",
   "execution_count": 50,
   "metadata": {},
   "outputs": [
    {
     "output_type": "stream",
     "name": "stdout",
     "text": [
      "Model: \"sequential_1\"\n_________________________________________________________________\nLayer (type)                 Output Shape              Param #   \n=================================================================\nconv2d_3 (Conv2D)            (None, 198, 198, 64)      1792      \n_________________________________________________________________\nmax_pooling2d_3 (MaxPooling2 (None, 99, 99, 64)        0         \n_________________________________________________________________\nconv2d_4 (Conv2D)            (None, 97, 97, 64)        36928     \n_________________________________________________________________\nmax_pooling2d_4 (MaxPooling2 (None, 48, 48, 64)        0         \n_________________________________________________________________\nconv2d_5 (Conv2D)            (None, 46, 46, 64)        36928     \n_________________________________________________________________\nmax_pooling2d_5 (MaxPooling2 (None, 23, 23, 64)        0         \n_________________________________________________________________\nflatten_1 (Flatten)          (None, 33856)             0         \n_________________________________________________________________\ndense_2 (Dense)              (None, 64)                2166848   \n_________________________________________________________________\ndense_3 (Dense)              (None, 4)                 260       \n=================================================================\nTotal params: 2,242,756\nTrainable params: 2,242,756\nNon-trainable params: 0\n_________________________________________________________________\n"
     ]
    }
   ],
   "source": [
    "model.summary()"
   ]
  },
  {
   "cell_type": "code",
   "execution_count": 51,
   "metadata": {},
   "outputs": [],
   "source": [
    "model.compile(loss='categorical_crossentropy', optimizer='adam', metrics=['accuracy'])"
   ]
  },
  {
   "cell_type": "code",
   "execution_count": 52,
   "metadata": {},
   "outputs": [],
   "source": [
    "train_datagen = ImageDataGenerator(rescale=1./255)\n",
    "test_datagen = ImageDataGenerator(rescale=1./255)"
   ]
  },
  {
   "cell_type": "code",
   "execution_count": 53,
   "metadata": {},
   "outputs": [
    {
     "output_type": "stream",
     "name": "stdout",
     "text": [
      "Found 14563 images belonging to 4 classes.\n"
     ]
    }
   ],
   "source": [
    "train_set = train_datagen.flow_from_directory('/Users/adiinviter/work/IIT/Assignments/Image_Recog_Assignments/data/shapes/training_set', target_size=(200, 200), class_mode='categorical')"
   ]
  },
  {
   "cell_type": "code",
   "execution_count": 54,
   "metadata": {},
   "outputs": [
    {
     "output_type": "stream",
     "name": "stdout",
     "text": [
      "Found 400 images belonging to 4 classes.\n"
     ]
    }
   ],
   "source": [
    "test_set = test_datagen.flow_from_directory('/Users/adiinviter/work/IIT/Assignments/Image_Recog_Assignments/data/shapes/test_set', target_size=(200, 200), class_mode='categorical')"
   ]
  },
  {
   "cell_type": "code",
   "execution_count": 55,
   "metadata": {},
   "outputs": [
    {
     "output_type": "stream",
     "name": "stdout",
     "text": [
      "Train for 456 steps, validate for 13 steps\n",
      "456/456 [==============================] - 494s 1s/step - loss: 0.0410 - accuracy: 0.9839 - val_loss: 6.2501e-05 - val_accuracy: 1.0000\n"
     ]
    },
    {
     "output_type": "execute_result",
     "data": {
      "text/plain": [
       "<tensorflow.python.keras.callbacks.History at 0x7fb15d29c390>"
      ]
     },
     "metadata": {},
     "execution_count": 55
    }
   ],
   "source": [
    "model.fit(train_set, epochs=1, validation_data = test_set)\n"
   ]
  },
  {
   "cell_type": "code",
   "execution_count": 56,
   "metadata": {},
   "outputs": [
    {
     "output_type": "execute_result",
     "data": {
      "text/plain": [
       "<tensorflow.python.keras.saving.saved_model.load.Sequential at 0x7fb15fe8d940>"
      ]
     },
     "metadata": {},
     "execution_count": 56
    }
   ],
   "source": [
    "# save Model\n",
    "model.save('/Users/adiinviter/work/IIT/Assignments/Image_Recog_Assignments/adi_shapes')\n",
    "# keras.models.load_model('/Users/adiinviter/work/IIT/Assignments/Image_Recog_Assignments/adi_shapes')"
   ]
  },
  {
   "cell_type": "code",
   "execution_count": 57,
   "metadata": {},
   "outputs": [],
   "source": [
    "import numpy as np\n",
    "\n",
    "from tensorflow.keras.preprocessing import image\n",
    "\n",
    "img1 = image.load_img('/Users/adiinviter/work/IIT/Assignments/Image_Recog_Assignments/data/test/circle/64.png', target_size = (200,200))\n",
    "img2 = image.load_img('/Users/adiinviter/work/IIT/Assignments/Image_Recog_Assignments/data/test/square/9.png', target_size = (200,200))\n",
    "img3 = image.load_img('/Users/adiinviter/work/IIT/Assignments/Image_Recog_Assignments/data/test/start/25.png', target_size = (200,200))\n",
    "img4 = image.load_img('/Users/adiinviter/work/IIT/Assignments/Image_Recog_Assignments/data/test/triangle/56.png', target_size = (200,200))\n",
    "img5 = image.load_img('/Users/adiinviter/work/IIT/Assignments/Image_Recog_Assignments/data/test/circle/73.png', target_size = (200,200))\n",
    "img6 = image.load_img('/Users/adiinviter/work/IIT/Assignments/Image_Recog_Assignments/data/test/start/80.png', target_size = (200,200))"
   ]
  },
  {
   "cell_type": "code",
   "execution_count": 58,
   "metadata": {},
   "outputs": [],
   "source": [
    "# Convert image to array\n",
    "img_arr1 = image.img_to_array(img1)\n",
    "img_arr2 = image.img_to_array(img2)\n",
    "img_arr3 = image.img_to_array(img3)\n",
    "img_arr4 = image.img_to_array(img4)\n",
    "img_arr5 = image.img_to_array(img5)\n",
    "img_arr6 = image.img_to_array(img6)"
   ]
  },
  {
   "cell_type": "code",
   "execution_count": 59,
   "metadata": {},
   "outputs": [],
   "source": [
    "img_reshape1=img_arr1.reshape(1, 200, 200, 3)\n",
    "img_reshape2=img_arr2.reshape(1, 200, 200, 3)\n",
    "img_reshape3=img_arr3.reshape(1, 200, 200, 3)\n",
    "img_reshape4=img_arr4.reshape(1, 200, 200, 3)\n",
    "img_reshape5=img_arr5.reshape(1, 200, 200, 3)\n",
    "img_reshape6=img_arr6.reshape(1, 200, 200, 3)"
   ]
  },
  {
   "cell_type": "code",
   "execution_count": 60,
   "metadata": {},
   "outputs": [],
   "source": [
    "res_around1=np.around(model.predict(img_reshape1))\n",
    "res_around2=np.around(model.predict(img_reshape2))\n",
    "res_around3=np.around(model.predict(img_reshape3))\n",
    "res_around4=np.around(model.predict(img_reshape4))\n",
    "res_around5=np.around(model.predict(img_reshape5))\n",
    "res_around6=np.around(model.predict(img_reshape6))"
   ]
  },
  {
   "cell_type": "code",
   "execution_count": 61,
   "metadata": {},
   "outputs": [],
   "source": [
    "shapes_arr = ['circle', 'square', 'star', 'triangle']"
   ]
  },
  {
   "cell_type": "code",
   "execution_count": 62,
   "metadata": {},
   "outputs": [
    {
     "output_type": "display_data",
     "data": {
      "text/plain": "<PIL.Image.Image image mode=RGB size=200x200 at 0x7FB15E41B3C8>",
      "image/png": "[encoded data removed]"
     },
     "metadata": {}
    },
    {
     "output_type": "display_data",
     "data": {
      "text/plain": "'circle'"
     },
     "metadata": {}
    },
    {
     "output_type": "display_data",
     "data": {
      "text/plain": "<PIL.Image.Image image mode=RGB size=200x200 at 0x7FB15CC9A3C8>",
      "image/png": "[encoded data removed]"
     },
     "metadata": {}
    },
    {
     "output_type": "display_data",
     "data": {
      "text/plain": "'square'"
     },
     "metadata": {}
    },
    {
     "output_type": "display_data",
     "data": {
      "text/plain": "<PIL.Image.Image image mode=RGB size=200x200 at 0x7FB15CF595F8>",
      "image/png": "[encoded data removed]"
     },
     "metadata": {}
    },
    {
     "output_type": "display_data",
     "data": {
      "text/plain": "'star'"
     },
     "metadata": {}
    },
    {
     "output_type": "display_data",
     "data": {
      "text/plain": "<PIL.Image.Image image mode=RGB size=200x200 at 0x7FB15CC9A0B8>",
      "image/png": "[encoded data removed]"
     },
     "metadata": {}
    },
    {
     "output_type": "display_data",
     "data": {
      "text/plain": "'triangle'"
     },
     "metadata": {}
    },
    {
     "output_type": "display_data",
     "data": {
      "text/plain": "<PIL.Image.Image image mode=RGB size=200x200 at 0x7FB15CC9A080>",
      "image/png": "[encoded data removed]"
     },
     "metadata": {}
    },
    {
     "output_type": "display_data",
     "data": {
      "text/plain": "'circle'"
     },
     "metadata": {}
    },
    {
     "output_type": "display_data",
     "data": {
      "text/plain": "<PIL.Image.Image image mode=RGB size=200x200 at 0x7FB15CC9A8D0>",
      "image/png": "[encoded data removed]"
     },
     "metadata": {}
    },
    {
     "output_type": "display_data",
     "data": {
      "text/plain": "'star'"
     },
     "metadata": {}
    }
   ],
   "source": [
    "display(img1)\n",
    "display(shapes_arr[res_around1.argmax()])\n",
    "\n",
    "display(img2)\n",
    "display(shapes_arr[res_around2.argmax()])\n",
    "\n",
    "display(img3)\n",
    "display(shapes_arr[res_around3.argmax()])\n",
    "\n",
    "display(img4)\n",
    "display(shapes_arr[res_around4.argmax()])\n",
    "\n",
    "display(img5)\n",
    "display(shapes_arr[res_around5.argmax()])\n",
    "\n",
    "display(img6)\n",
    "display(shapes_arr[res_around6.argmax()])"
   ]
  }
 ],
 "metadata": {
  "kernelspec": {
   "name": "python3613jvsc74a57bd0f43ab602a5246205fc12a25785a1b7750a3a78af4634891fe009a0bdb954b690",
   "display_name": "Python 3.6.13 64-bit ('TensorFlow': conda)"
  },
  "language_info": {
   "codemirror_mode": {
    "name": "ipython",
    "version": 3
   },
   "file_extension": ".py",
   "mimetype": "text/x-python",
   "name": "python",
   "nbconvert_exporter": "python",
   "pygments_lexer": "ipython3",
   "version": "3.6.13"
  }
 },
 "nbformat": 4,
 "nbformat_minor": 2
}