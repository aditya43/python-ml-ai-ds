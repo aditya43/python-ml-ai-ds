{
 "cells": [
  {
   "cell_type": "markdown",
   "metadata": {
    "slideshow": {
     "slide_type": "slide"
    }
   },
   "source": [
    "# Advanced Constructs in Python\n",
    "\n",
    "In the previous video series we covered basics of Python programming and worked with some simple programs. In this video series we will dive into some advanced concepts in programming which you will be making use of regularly throughout the rest of the program. The agenda of this session is as follows\n",
    "\n",
    "- Functions in Python\n",
    "- Inline functions (lambda functions)\n",
    "- Membership operators\n",
    "- Importing Python modules\n",
    "- Exception handling in Python\n",
    "- File I/O in Python"
   ]
  },
  {
   "cell_type": "markdown",
   "metadata": {
    "slideshow": {
     "slide_type": "slide"
    }
   },
   "source": [
    "## Functions in Python\n",
    "We have been using Functions in Python. Example `print()` is a function using which we can print any data on the screen. `print()` is an inbuilt Python function.\n",
    "\n",
    "Similarly we can define our own functions which would take a certain `input` and generate a specific `output`. Functions helps us when we want to use same piece of code in different scenarios.\n",
    "\n",
    "<img src=\"https://geo-python.github.io/2017/_images/Function_anatomy.png\" height=400 width=400>"
   ]
  },
  {
   "cell_type": "code",
   "execution_count": 16,
   "metadata": {
    "slideshow": {
     "slide_type": "fragment"
    }
   },
   "outputs": [
    {
     "output_type": "execute_result",
     "data": {
      "text/plain": "&#39; This function suqares a the provided input &#39;"
     },
     "metadata": {},
     "execution_count": 16
    }
   ],
   "source": [
    "# to start with write a function that calculates square of a number\n",
    "# print the output and the documentation\n",
    "\n",
    "def square(num):\n",
    "    \"\"\" This function suqares a the provided input \"\"\"\n",
    "    return num ** 2\n",
    "\n",
    "square.__doc__"
   ]
  },
  {
   "cell_type": "code",
   "execution_count": 17,
   "metadata": {
    "slideshow": {
     "slide_type": "slide"
    },
    "tags": []
   },
   "outputs": [
    {
     "output_type": "stream",
     "name": "stdout",
     "text": "2 x 1 = 2\n2 x 2 = 4\n2 x 3 = 6\n2 x 4 = 8\n2 x 5 = 10\n2 x 6 = 12\n2 x 7 = 14\n2 x 8 = 16\n2 x 9 = 18\n2 x 10 = 20\n"
    }
   ],
   "source": [
    "# let us now move on to creating some complex function\n",
    "# let us create a function to print tables\n",
    "\n",
    "def tables(num):\n",
    "    for i in range(1,11):\n",
    "        print(num, \"x\", i, \"=\", num*i)\n",
    "\n",
    "tables(2)"
   ]
  },
  {
   "cell_type": "code",
   "execution_count": 18,
   "metadata": {
    "slideshow": {
     "slide_type": "slide"
    }
   },
   "outputs": [],
   "source": [
    "# scope of the variable\n",
    "# a variable defined inside a function cannot be accessed from outside the function\n",
    "# but a variable defined outside a function can be accessed from inside the function\n",
    "\n",
    "external_variable = 10\n",
    "\n",
    "def multiply_2(num):\n",
    "    internal_variable = 25\n",
    "    return num*internal_variable + external_variable\n",
    "\n",
    "# print(internal_variable) # This will cause error"
   ]
  },
  {
   "cell_type": "code",
   "execution_count": 19,
   "metadata": {
    "slideshow": {
     "slide_type": "slide"
    }
   },
   "outputs": [
    {
     "output_type": "execute_result",
     "data": {
      "text/plain": "60"
     },
     "metadata": {},
     "execution_count": 19
    }
   ],
   "source": [
    "# functions with default values for input parameters\n",
    "\n",
    "\n",
    "def tables(num = 2):\n",
    "    for i in range(1,11):\n",
    "        print(num, \"x\", i, \"=\", num*i)\n",
    "\n",
    "\n",
    "def multiply_3(num1, num2, num3 = 5):\n",
    "    return num1*num2*num3\n",
    "\n",
    "multiply_3(3,4)"
   ]
  },
  {
   "cell_type": "markdown",
   "metadata": {
    "slideshow": {
     "slide_type": "slide"
    }
   },
   "source": [
    "## Lambda Functions\n",
    "\n",
    "Lambda function is a small anonyumous\n",
    "\n",
    "`lambda arguments : expression`"
   ]
  },
  {
   "cell_type": "code",
   "execution_count": 20,
   "metadata": {
    "slideshow": {
     "slide_type": "fragment"
    }
   },
   "outputs": [
    {
     "output_type": "execute_result",
     "data": {
      "text/plain": "4"
     },
     "metadata": {},
     "execution_count": 20
    }
   ],
   "source": [
    "# lambda function to calculate square of a number\n",
    "\n",
    "square = lambda num : num ** 2\n",
    "square(2)"
   ]
  },
  {
   "cell_type": "code",
   "execution_count": 21,
   "metadata": {
    "slideshow": {
     "slide_type": "fragment"
    }
   },
   "outputs": [
    {
     "output_type": "execute_result",
     "data": {
      "text/plain": "60"
     },
     "metadata": {},
     "execution_count": 21
    }
   ],
   "source": [
    "# lambda function to multiply three numbers\n",
    "\n",
    "multiply = lambda num1,num2,num3 : num1*num2*num3\n",
    "\n",
    "multiply(3,4,5)"
   ]
  },
  {
   "cell_type": "markdown",
   "metadata": {
    "slideshow": {
     "slide_type": "slide"
    }
   },
   "source": [
    "## Membership Operators\n",
    "\n",
    "Pythons membership operators test for membership in a sequence such as strings, lists or tuples. There are two membership operators in Python namely `in` and `not in`, these operators check the membership and return a boolean value."
   ]
  },
  {
   "cell_type": "code",
   "execution_count": 22,
   "metadata": {
    "slideshow": {
     "slide_type": "fragment"
    }
   },
   "outputs": [
    {
     "output_type": "execute_result",
     "data": {
      "text/plain": "True"
     },
     "metadata": {},
     "execution_count": 22
    }
   ],
   "source": [
    "# check membership in list\n",
    "\n",
    "even = [2,4,6,8,10]\n",
    "\n",
    "11 not in even"
   ]
  },
  {
   "cell_type": "code",
   "execution_count": 27,
   "metadata": {
    "slideshow": {
     "slide_type": "fragment"
    },
    "tags": []
   },
   "outputs": [
    {
     "output_type": "stream",
     "name": "stdout",
     "text": "True\nFalse\n"
    }
   ],
   "source": [
    "# check membership in strings\n",
    "\n",
    "topic = \"Data Science\"\n",
    "\n",
    "print(\"D\" in topic)\n",
    "print(\"d\" in topic)"
   ]
  },
  {
   "cell_type": "markdown",
   "metadata": {
    "slideshow": {
     "slide_type": "slide"
    }
   },
   "source": [
    "## Modules in Python\n",
    "\n",
    "Module is nothing but a python program file which stores some functions which can be utilized in any python program by just `importing` the requisite file. Let us delve this topic into detail.\n",
    "\n",
    "Package is collection of different modules"
   ]
  },
  {
   "cell_type": "code",
   "execution_count": 2,
   "metadata": {
    "slideshow": {
     "slide_type": "fragment"
    }
   },
   "outputs": [
    {
     "output_type": "execute_result",
     "data": {
      "text/plain": "6"
     },
     "metadata": {},
     "execution_count": 2
    }
   ],
   "source": [
    "# let us now create a simple module with four primary arithmetic functions viz. add, sub, mul and div\n",
    "\n",
    "# import a specific function from module\n",
    "from calculator import add,mul\n",
    "\n",
    "add(2,3)\n",
    "# create an alias for the imported module\n",
    "\n",
    "import calculator as calc\n",
    "\n",
    "calc.add(2,4)"
   ]
  },
  {
   "cell_type": "markdown",
   "metadata": {
    "slideshow": {
     "slide_type": "slide"
    }
   },
   "source": [
    "### Exception handling in Python"
   ]
  },
  {
   "cell_type": "code",
   "execution_count": 41,
   "metadata": {
    "slideshow": {
     "slide_type": "fragment"
    }
   },
   "outputs": [
    {
     "name": "stdout",
     "output_type": "stream",
     "text": [
      "0.5\n",
      "0.3333333333333333\n",
      "The reciprocal cannot be calculated for 0 ||  <class 'ZeroDivisionError'>\n",
      "0.25\n",
      "0.125\n",
      "The reciprocal cannot be calculated for zero ||  <class 'TypeError'>\n"
     ]
    }
   ],
   "source": [
    "# let us write a small piece of code to find reciprocal of integers from a list\n",
    "# print the error using sys.exc_info()[0]\n",
    "\n",
    "import sys\n",
    "numbers = [2,3,0,4,8,\"zero\"]\n",
    "\n",
    "for i in numbers:\n",
    "    try:\n",
    "        print(1/i)\n",
    "    except:\n",
    "        print(\"The reciprocal cannot be calculated for\",i, \"|| \", sys.exc_info()[0])\n"
   ]
  },
  {
   "cell_type": "markdown",
   "metadata": {
    "slideshow": {
     "slide_type": "slide"
    }
   },
   "source": [
    "## File handling in Python\n",
    "\n",
    "We can read and write files using Python. Let us check out in-built python functions available for this."
   ]
  },
  {
   "cell_type": "code",
   "execution_count": 43,
   "metadata": {
    "slideshow": {
     "slide_type": "fragment"
    }
   },
   "outputs": [],
   "source": [
    "# create a new text file and add three lines to the same\n",
    "\n",
    "# modes of files \n",
    "# r , for reading.\n",
    "# w , for writing.\n",
    "# a , for appending.\n",
    "# r+ , for both reading and writing\n",
    "\n",
    "with open(\"text_file.txt\",\"w\") as f:\n",
    "    f.write(\"This is the first line in my file \\n\")\n",
    "    f.write(\"This is the next line \\n\")\n",
    "    f.write(\"We are going to add many more lines \\n\")\n",
    "\n",
    "f.close()"
   ]
  },
  {
   "cell_type": "code",
   "execution_count": 48,
   "metadata": {
    "slideshow": {
     "slide_type": "slide"
    }
   },
   "outputs": [
    {
     "name": "stdout",
     "output_type": "stream",
     "text": [
      "This is the first line in my file \n",
      "This is the next line \n",
      "We are going to add many more lines \n",
      "\n"
     ]
    }
   ],
   "source": [
    "# read data from file using read(), readline()\n",
    "\n",
    "f = open(\"text_file.txt\",\"r\")\n",
    "\n",
    "print(f.read())\n",
    "\n",
    "f.close()"
   ]
  },
  {
   "cell_type": "code",
   "execution_count": null,
   "metadata": {},
   "outputs": [],
   "source": []
  },
  {
   "cell_type": "code",
   "execution_count": 52,
   "metadata": {
    "slideshow": {
     "slide_type": "fragment"
    }
   },
   "outputs": [
    {
     "name": "stdout",
     "output_type": "stream",
     "text": [
      "This is the first line in my file \n",
      "\n",
      "This is the next line \n",
      "\n",
      "We are going to add many more lines \n",
      "\n"
     ]
    }
   ],
   "source": [
    "# use for loop to read all lines\n",
    "\n",
    "f = open(\"text_file.txt\",\"r\")\n",
    "\n",
    "for line in f.readlines():\n",
    "    print(line)\n",
    "    \n",
    "f.close()"
   ]
  }
 ],
 "metadata": {
  "celltoolbar": "Slideshow",
  "kernelspec": {
   "display_name": "Python 3",
   "language": "python",
   "name": "python3"
  },
  "language_info": {
   "codemirror_mode": {
    "name": "ipython",
    "version": 3
   },
   "file_extension": ".py",
   "mimetype": "text/x-python",
   "name": "python",
   "nbconvert_exporter": "python",
   "pygments_lexer": "ipython3",
   "version": "3.8.3-final"
  }
 },
 "nbformat": 4,
 "nbformat_minor": 4
}