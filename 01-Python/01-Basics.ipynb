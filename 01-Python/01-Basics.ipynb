{
 "cells": [
  {
   "cell_type": "markdown",
   "metadata": {
    "slideshow": {
     "slide_type": "slide"
    }
   },
   "source": [
    "## Why Python?\n",
    "\n",
    " - Python is powerful and open-sourced language\n",
    " - Python syntax is readable and hence cuts the development time\n",
    " - Python provides wide array of libraries that can be used\n",
    " - Python has become a de-facto industry standard"
   ]
  },
  {
   "cell_type": "markdown",
   "metadata": {
    "slideshow": {
     "slide_type": "slide"
    }
   },
   "source": [
    "## Python vs R for Data Science\n",
    " - Python and R both are popular among Data Scientists\n",
    " - R is little better if you want to do pure statistical work\n",
    " - Most of the academicians use R for reseearch\n",
    " - For writing variety of program, Python has an edge"
   ]
  },
  {
   "cell_type": "markdown",
   "metadata": {
    "slideshow": {
     "slide_type": "slide"
    }
   },
   "source": [
    "## Using Variables and Types of Variables in Python\n",
    "\n",
    "Python works as a calculator where you can simply type in the numbers and get the output.\n"
   ]
  },
  {
   "cell_type": "code",
   "execution_count": 2,
   "metadata": {
    "slideshow": {
     "slide_type": "fragment"
    }
   },
   "outputs": [
    {
     "data": {
      "text/plain": [
       "-64"
      ]
     },
     "execution_count": 2,
     "metadata": {},
     "output_type": "execute_result"
    }
   ],
   "source": [
    "# python as calculator\n",
    "\n",
    "3+5-(9*8)"
   ]
  },
  {
   "cell_type": "markdown",
   "metadata": {
    "slideshow": {
     "slide_type": "fragment"
    }
   },
   "source": [
    "But most of the time we will need to refer back to some values again and again this is where variables come in to picture\n",
    "\n",
    " - Variables are used to store values in the memory\n",
    " - We can not only store numbers but also various other types of variables in Python. \n",
    " \n",
    "Let us take the above example of addition of two number."
   ]
  },
  {
   "cell_type": "code",
   "execution_count": 3,
   "metadata": {
    "slideshow": {
     "slide_type": "slide"
    }
   },
   "outputs": [
    {
     "name": "stdout",
     "output_type": "stream",
     "text": [
      "8\n"
     ]
    }
   ],
   "source": [
    "# in this code block, anything followed by a # symbol will not be executed\n",
    "# These are called as comments\n",
    "\n",
    "\n",
    "# assign value 3 to variable x\n",
    "x = 3\n",
    "\n",
    "# assign value 5 to variable y\n",
    "y = 5\n",
    "\n",
    "# add x & y and assign the value to another variable z\n",
    "z = x + y\n",
    "\n",
    "# print the value of z\n",
    "print(z)"
   ]
  },
  {
   "cell_type": "markdown",
   "metadata": {
    "slideshow": {
     "slide_type": "slide"
    }
   },
   "source": [
    "The most commonly used data types in Python are\n",
    " - integer\n",
    " - float\n",
    " - string\n",
    " - boolean\n",
    " \n",
    "We can check type of any variable using `type(variable_name)` method in python. Let us quickly check what `type` of variables are `x`,`y` and `z` we used in last example"
   ]
  },
  {
   "cell_type": "code",
   "execution_count": 4,
   "metadata": {
    "slideshow": {
     "slide_type": "slide"
    }
   },
   "outputs": [
    {
     "name": "stdout",
     "output_type": "stream",
     "text": [
      "<class 'int'>\n",
      "<class 'int'>\n",
      "<class 'float'>\n"
     ]
    }
   ],
   "source": [
    "# print the type of variable x\n",
    "print(type(x))\n",
    "\n",
    "# print the type of variable y\n",
    "print(type(y))\n",
    "\n",
    "# print the type of variable (x/y)\n",
    "print(type(x/y))"
   ]
  },
  {
   "cell_type": "markdown",
   "metadata": {
    "slideshow": {
     "slide_type": "slide"
    }
   },
   "source": [
    "### Strings"
   ]
  },
  {
   "cell_type": "code",
   "execution_count": 6,
   "metadata": {
    "slideshow": {
     "slide_type": "fragment"
    }
   },
   "outputs": [
    {
     "name": "stdout",
     "output_type": "stream",
     "text": [
      "<class 'str'>\n"
     ]
    }
   ],
   "source": [
    "a = \"Data Science\"\n",
    "\n",
    "print(type(a))"
   ]
  },
  {
   "cell_type": "code",
   "execution_count": 7,
   "metadata": {
    "slideshow": {
     "slide_type": "fragment"
    }
   },
   "outputs": [
    {
     "name": "stdout",
     "output_type": "stream",
     "text": [
      "The length of string varibale a is  12\n"
     ]
    }
   ],
   "source": [
    "# you can find length of a string as well\n",
    "\n",
    "print(\"The length of string varibale a is \", len(a))"
   ]
  },
  {
   "cell_type": "markdown",
   "metadata": {
    "slideshow": {
     "slide_type": "slide"
    }
   },
   "source": [
    "## Slicing Strings"
   ]
  },
  {
   "cell_type": "code",
   "execution_count": 10,
   "metadata": {
    "slideshow": {
     "slide_type": "fragment"
    }
   },
   "outputs": [
    {
     "name": "stdout",
     "output_type": "stream",
     "text": [
      "The third character of the string is  t\n",
      "The fifth character of the string is   \n",
      "The last character of the string is  e\n"
     ]
    }
   ],
   "source": [
    "# indexing in Python starts from 0\n",
    "a = \"Data Science\"\n",
    "\n",
    "# print 3rd cahracter in the string\n",
    "print(\"The third character of the string is \",a[2])\n",
    "\n",
    "# print 5th character in the string\n",
    "print(\"The fifth character of the string is \", a[4])\n",
    "\n",
    "# print last character in the string\n",
    "print(\"The last character of the string is \", a[11])"
   ]
  },
  {
   "cell_type": "code",
   "execution_count": 12,
   "metadata": {
    "slideshow": {
     "slide_type": "fragment"
    }
   },
   "outputs": [
    {
     "name": "stdout",
     "output_type": "stream",
     "text": [
      "Data Science\n"
     ]
    }
   ],
   "source": [
    "# you can add strings in Python as follows\n",
    "d = \"Data\"\n",
    "s = \"Science\"\n",
    "\n",
    "print(d + \" \" + s)"
   ]
  },
  {
   "cell_type": "markdown",
   "metadata": {
    "slideshow": {
     "slide_type": "slide"
    }
   },
   "source": [
    "## Operators in Python\n",
    "\n",
    " - Arithmetic Operators\n",
    " - Comparison Operators\n",
    " - Logical Operators\n",
    " "
   ]
  },
  {
   "cell_type": "markdown",
   "metadata": {
    "slideshow": {
     "slide_type": "slide"
    }
   },
   "source": [
    "### Arithmetic Operators"
   ]
  },
  {
   "cell_type": "code",
   "execution_count": 15,
   "metadata": {
    "slideshow": {
     "slide_type": "fragment"
    }
   },
   "outputs": [
    {
     "name": "stdout",
     "output_type": "stream",
     "text": [
      "Addition  8\n",
      "Subtraction  -2\n",
      "Multiplication  15\n",
      "Division  0.6\n"
     ]
    }
   ],
   "source": [
    "a = 3\n",
    "b = 5\n",
    "\n",
    "# addition\n",
    "print(\"Addition \", a + b)\n",
    "\n",
    "# subtraction\n",
    "print(\"Subtraction \", a - b)\n",
    "\n",
    "# multiplication\n",
    "print(\"Multiplication \", a * b)\n",
    "\n",
    "# division\n",
    "print(\"Division \", a / b)"
   ]
  },
  {
   "cell_type": "code",
   "execution_count": 18,
   "metadata": {
    "slideshow": {
     "slide_type": "slide"
    }
   },
   "outputs": [
    {
     "name": "stdout",
     "output_type": "stream",
     "text": [
      "Modulo  3\n",
      "Floor division  0\n",
      "Exponential  59049\n"
     ]
    }
   ],
   "source": [
    "# modulo (remainder)\n",
    "print(\"Modulo \", a % b)\n",
    "\n",
    "# floor division (quotient)\n",
    "print(\"Floor division \", a // b)\n",
    "\n",
    "# exponential\n",
    "print(\"Exponential \", a ** 10) \n"
   ]
  },
  {
   "cell_type": "markdown",
   "metadata": {
    "slideshow": {
     "slide_type": "slide"
    }
   },
   "source": [
    "### Comparison Operators\n",
    "\n",
    "Comparison operators would compare two variables based on a criteria and return a boolean value"
   ]
  },
  {
   "cell_type": "code",
   "execution_count": 23,
   "metadata": {
    "slideshow": {
     "slide_type": "fragment"
    }
   },
   "outputs": [
    {
     "name": "stdout",
     "output_type": "stream",
     "text": [
      "False\n",
      "True\n",
      "True\n",
      "True\n",
      "False\n",
      "False\n"
     ]
    }
   ],
   "source": [
    "a = 3\n",
    "b = 5\n",
    "\n",
    "# equal to\n",
    "print(a == b)\n",
    "\n",
    "# not equal to\n",
    "print(a != b)\n",
    "\n",
    "# less than\n",
    "print(a < b)\n",
    "\n",
    "# less than or equal\n",
    "print(a <= b)\n",
    "\n",
    "# greater than\n",
    "print(a > b)\n",
    "\n",
    "# greater than or equal\n",
    "print(a >= b)"
   ]
  },
  {
   "cell_type": "markdown",
   "metadata": {
    "slideshow": {
     "slide_type": "slide"
    }
   },
   "source": [
    "### Logical Operators"
   ]
  },
  {
   "cell_type": "code",
   "execution_count": 25,
   "metadata": {
    "slideshow": {
     "slide_type": "fragment"
    }
   },
   "outputs": [
    {
     "name": "stdout",
     "output_type": "stream",
     "text": [
      "False\n",
      "True\n",
      "True\n",
      "False\n"
     ]
    }
   ],
   "source": [
    "a = True\n",
    "b = False\n",
    "\n",
    "# not operator\n",
    "print(not a)\n",
    "print(not b)\n",
    "\n",
    "# or operator\n",
    "print(a or b)\n",
    "\n",
    "# and operator\n",
    "print(a and b)\n"
   ]
  },
  {
   "cell_type": "markdown",
   "metadata": {
    "slideshow": {
     "slide_type": "slide"
    }
   },
   "source": [
    "## Data Structures in Python\n",
    " - List\n",
    " - Tuple\n",
    " - Set\n",
    " - Dictionary"
   ]
  },
  {
   "cell_type": "markdown",
   "metadata": {
    "slideshow": {
     "slide_type": "slide"
    }
   },
   "source": [
    "### List"
   ]
  },
  {
   "cell_type": "code",
   "execution_count": 27,
   "metadata": {
    "slideshow": {
     "slide_type": "fragment"
    }
   },
   "outputs": [
    {
     "name": "stdout",
     "output_type": "stream",
     "text": [
      "<class 'list'>\n",
      "[25, 23, 2, 59, 64]\n",
      "['PGD-DS', 5, True, 6.4, ['Data', 'Python', 1]]\n"
     ]
    }
   ],
   "source": [
    "# list is an ordered - mutable data structure\n",
    "\n",
    "age = [25,23,2,59,64]\n",
    "print(type(age))\n",
    "print(age)\n",
    "\n",
    "# list can hold various values\n",
    "details = ['PGD-DS',5,True,6.4,['Data','Python',1]]\n",
    "print(details)"
   ]
  },
  {
   "cell_type": "code",
   "execution_count": 30,
   "metadata": {
    "slideshow": {
     "slide_type": "slide"
    }
   },
   "outputs": [
    {
     "name": "stdout",
     "output_type": "stream",
     "text": [
      "The length of the list is  5\n",
      "The first element in the list is  25\n",
      "The last element in the list is  64\n"
     ]
    }
   ],
   "source": [
    "# Index from rear:    -6  -5  -4  -3  -2  -1     \n",
    "# Index from front:    0   1   2   3   4   5      \n",
    "#                    +---+---+---+---+---+---+    \n",
    "#                    | a | b | c | d | e | f |    \n",
    "#                    +---+---+---+---+---+---+    \n",
    "\n",
    "# refering to elements inside a list - indexing\n",
    "\n",
    "# length of a list\n",
    "print(\"The length of the list is \", len(age))\n",
    "\n",
    "# first element in the list\n",
    "print(\"The first element in the list is \", age[0])\n",
    "\n",
    "# last element in the list\n",
    "print(\"The last element in the list is \", age[-1])"
   ]
  },
  {
   "cell_type": "code",
   "execution_count": 33,
   "metadata": {
    "slideshow": {
     "slide_type": "fragment"
    }
   },
   "outputs": [
    {
     "name": "stdout",
     "output_type": "stream",
     "text": [
      "[25, 23, 2]\n",
      "[2, 59]\n"
     ]
    }
   ],
   "source": [
    "# slicing lists - including the first index but excluding the second\n",
    "\n",
    "# using colon\n",
    "print(age[0:3])\n",
    "\n",
    "# negative index\n",
    "print(age[-3:-1])"
   ]
  },
  {
   "cell_type": "code",
   "execution_count": 36,
   "metadata": {
    "slideshow": {
     "slide_type": "slide"
    }
   },
   "outputs": [
    {
     "name": "stdout",
     "output_type": "stream",
     "text": [
      "Original list  [25, 23, 2, 59, 64]\n",
      "Modified list  [26, 23, 2, 59, 64]\n"
     ]
    }
   ],
   "source": [
    "# change the values in a list\n",
    "\n",
    "# original list\n",
    "print(\"Original list \", age)\n",
    "\n",
    "# change the first value to 26\n",
    "age[0] = 26\n",
    "\n",
    "# modified list\n",
    "print(\"Modified list \", age)\n"
   ]
  },
  {
   "cell_type": "code",
   "execution_count": 39,
   "metadata": {
    "slideshow": {
     "slide_type": "slide"
    }
   },
   "outputs": [
    {
     "name": "stdout",
     "output_type": "stream",
     "text": [
      "[2, 4, 6, 8, 10, 12]\n",
      "[2, 6, 8, 10, 12]\n",
      "[2, 6, 8, 10]\n"
     ]
    }
   ],
   "source": [
    "# append, pop and extend a list\n",
    "\n",
    "a = [2,4,6,8,10]\n",
    "\n",
    "# append next even number to the list\n",
    "a.append(12)\n",
    "print(a)\n",
    "\n",
    "# remove the second even number from the list\n",
    "a.pop(1)\n",
    "print(a)\n",
    "\n",
    "# pop without a comment will remove the last element in the list\n",
    "a.pop()\n",
    "print(a)"
   ]
  },
  {
   "cell_type": "code",
   "execution_count": 40,
   "metadata": {
    "slideshow": {
     "slide_type": "slide"
    }
   },
   "outputs": [
    {
     "name": "stdout",
     "output_type": "stream",
     "text": [
      "[2, 4, 6, 8, 10, [12, 14, 16]]\n"
     ]
    }
   ],
   "source": [
    "# extend a list\n",
    "# what if we want to append more than one elements to a list\n",
    "# let us see what happens if we use append for the same\n",
    "\n",
    "a = [2,4,6,8,10]\n",
    "b = [12,14,16]\n",
    "\n",
    "a.append(b)\n",
    "print(a)"
   ]
  },
  {
   "cell_type": "code",
   "execution_count": null,
   "metadata": {},
   "outputs": [],
   "source": []
  },
  {
   "cell_type": "code",
   "execution_count": 41,
   "metadata": {
    "slideshow": {
     "slide_type": "fragment"
    }
   },
   "outputs": [
    {
     "name": "stdout",
     "output_type": "stream",
     "text": [
      "[2, 4, 6, 8, 10, 12, 14, 16]\n"
     ]
    }
   ],
   "source": [
    "# we use extend in such a case\n",
    "a = [2,4,6,8,10]\n",
    "b = [12,14,16]\n",
    "\n",
    "a.extend(b)\n",
    "print(a)"
   ]
  },
  {
   "cell_type": "markdown",
   "metadata": {
    "slideshow": {
     "slide_type": "slide"
    }
   },
   "source": [
    "### Tuples"
   ]
  },
  {
   "cell_type": "code",
   "execution_count": 43,
   "metadata": {
    "slideshow": {
     "slide_type": "fragment"
    }
   },
   "outputs": [
    {
     "name": "stdout",
     "output_type": "stream",
     "text": [
      "(2, 4, 6, 8, 10)\n",
      "<class 'tuple'>\n",
      "(4, 6, 8, 10)\n"
     ]
    }
   ],
   "source": [
    "# tuples are immutable - ordered data structures\n",
    "\n",
    "a = (2,4,6,8,10)\n",
    "print(a)\n",
    "print(type(a))\n",
    "\n",
    "# indexing in tuples\n",
    "print(a[1:])\n",
    "\n"
   ]
  },
  {
   "cell_type": "code",
   "execution_count": 47,
   "metadata": {
    "slideshow": {
     "slide_type": "slide"
    }
   },
   "outputs": [
    {
     "name": "stdout",
     "output_type": "stream",
     "text": [
      "<class 'tuple'>\n",
      "5\n"
     ]
    }
   ],
   "source": [
    "# tuple with different types of elements\n",
    "b = (9,\"String\",8.99,[1,2,3],(1,2,3))\n",
    "print(type(b))\n",
    "\n",
    "# try to change the value\n",
    "#a[0] = 1\n",
    "\n",
    "# length of a tuple\n",
    "print(len(a))"
   ]
  },
  {
   "cell_type": "markdown",
   "metadata": {
    "slideshow": {
     "slide_type": "slide"
    }
   },
   "source": [
    "### Sets"
   ]
  },
  {
   "cell_type": "code",
   "execution_count": 48,
   "metadata": {
    "slideshow": {
     "slide_type": "fragment"
    }
   },
   "outputs": [
    {
     "name": "stdout",
     "output_type": "stream",
     "text": [
      "{'Antibes', 'Paris', 'Nice'}\n",
      "{'Frankfurt', 'Berlin', 'Dusseldorf'}\n"
     ]
    }
   ],
   "source": [
    "# a set is an unordered and unindexed collection which holds only unique values\n",
    "\n",
    "french_cities = {\"Paris\",\"Nice\",\"Antibes\"}\n",
    "print(french_cities)\n",
    "\n",
    "german_cities = {\"Dusseldorf\",\"Berlin\",\"Frankfurt\"}\n",
    "print(german_cities)"
   ]
  },
  {
   "cell_type": "code",
   "execution_count": 50,
   "metadata": {
    "slideshow": {
     "slide_type": "slide"
    }
   },
   "outputs": [
    {
     "name": "stdout",
     "output_type": "stream",
     "text": [
      "{'Antibes', 'Lille', 'Paris', 'Nice'}\n",
      "{'Frankfurt', 'Dusseldorf'}\n"
     ]
    }
   ],
   "source": [
    "# adding a value to set using add method\n",
    "french_cities.add(\"Lille\")\n",
    "print(french_cities)\n",
    "\n",
    "\n",
    "# removing a value using remove method\n",
    "german_cities.remove(\"Berlin\")\n",
    "print(german_cities)\n"
   ]
  },
  {
   "cell_type": "code",
   "execution_count": 54,
   "metadata": {
    "slideshow": {
     "slide_type": "fragment"
    }
   },
   "outputs": [
    {
     "name": "stdout",
     "output_type": "stream",
     "text": [
      "{'Frankfurt', 'Lille', 'Antibes', 'Paris', 'Nice', 'Dusseldorf'}\n",
      "{'Antibes', 'Nice', 'Paris', 'Lille'}\n"
     ]
    }
   ],
   "source": [
    "# combine two cities using union\n",
    "eu_cities = french_cities.union(german_cities)\n",
    "print(eu_cities)\n",
    "\n",
    "# make a set of common elements in sets\n",
    "eu_cities1 = eu_cities.intersection(french_cities)\n",
    "print(eu_cities1)"
   ]
  },
  {
   "cell_type": "markdown",
   "metadata": {
    "slideshow": {
     "slide_type": "slide"
    }
   },
   "source": [
    "### Dictionary"
   ]
  },
  {
   "cell_type": "code",
   "execution_count": 61,
   "metadata": {
    "slideshow": {
     "slide_type": "fragment"
    }
   },
   "outputs": [
    {
     "name": "stdout",
     "output_type": "stream",
     "text": [
      "dict_keys(['Make', 'Model', 'Year'])\n",
      "dict_values(['Hyundai', 'Grand i10', 2015])\n"
     ]
    }
   ],
   "source": [
    "# dictionary is a mutable, indexed collection used in python. The data is represented as key value pairs in a dictionary\n",
    "\n",
    "cars = {\"Make\":\"Hyundai\",\"Model\":\"Grand i10\",\"Year\":2015}\n",
    "\n",
    "\n",
    "# print all keys of the dictionary\n",
    "print(cars.keys())\n",
    "\n",
    "\n",
    "# print all values of the dictionary\n",
    "print(cars.values())"
   ]
  },
  {
   "cell_type": "code",
   "execution_count": 64,
   "metadata": {
    "slideshow": {
     "slide_type": "fragment"
    }
   },
   "outputs": [
    {
     "name": "stdout",
     "output_type": "stream",
     "text": [
      "{'Make': 'Hyundai', 'Model': 'Grand i10', 'Year': 2015, 'Color': 'White'}\n",
      "{'Make': 'Hyundai', 'Year': 2015, 'Color': 'White'}\n"
     ]
    }
   ],
   "source": [
    "# add a value to the dictionary\n",
    "cars[\"Color\"] = \"White\"\n",
    "print(cars)\n",
    "\n",
    "# remove year value\n",
    "cars.pop(\"Model\")\n",
    "print(cars)\n",
    "\n",
    "# dictionary can take have different collection within its values\n",
    "students = {\"Names\":['Steve','Roger','Molly'],\"Marks\":[4.5,4.3,4.6]}"
   ]
  },
  {
   "cell_type": "markdown",
   "metadata": {
    "slideshow": {
     "slide_type": "slide"
    }
   },
   "source": [
    "## Conditional Statements in Python\n",
    "\n",
    "Many a times in programming we need to change the flow of the program based on certain conditions and this is where conditional statements come into the picture. They are used if we want to execute certain piece of code based on single or multiple criterion."
   ]
  },
  {
   "cell_type": "code",
   "execution_count": 70,
   "metadata": {
    "slideshow": {
     "slide_type": "fragment"
    }
   },
   "outputs": [
    {
     "name": "stdout",
     "output_type": "stream",
     "text": [
      "The student has passed the exam\n"
     ]
    }
   ],
   "source": [
    "# if else elif statement\n",
    "\n",
    "marks = 65\n",
    "\n",
    "# we want to find out whether the student scoring these marks in pass or fail. The passing criteria is >=40 marks\n",
    "# focus onto indentation in python\n",
    "\n",
    "if marks >= 40:\n",
    "    print(\"The student has passed the exam\")\n",
    "else:\n",
    "    print(\"The student has failed the exam\")"
   ]
  },
  {
   "cell_type": "code",
   "execution_count": 73,
   "metadata": {
    "slideshow": {
     "slide_type": "slide"
    }
   },
   "outputs": [
    {
     "name": "stdout",
     "output_type": "stream",
     "text": [
      "Grade is First Class\n"
     ]
    }
   ],
   "source": [
    "# let us now decide the actual grade of the candidate \n",
    "\n",
    "marks = 65\n",
    "\n",
    "if marks >= 75:\n",
    "    print(\"Grade is distinction\")\n",
    "elif marks >= 65:\n",
    "    print(\"Grade is First Class\")\n",
    "elif marks >= 55:\n",
    "    print(\"Grade is Second Class\")\n",
    "elif marks >= 40:\n",
    "    print(\"Grade is Pass Clase\")\n",
    "else:\n",
    "    print(\"The student has failed\")"
   ]
  },
  {
   "cell_type": "markdown",
   "metadata": {
    "slideshow": {
     "slide_type": "slide"
    }
   },
   "source": [
    "## Loop Statements in Python\n",
    "There may be cases where we need to execute a certain piece of code repeteadly untill a condition is satisfied. We would be using loop statements in such cases"
   ]
  },
  {
   "cell_type": "code",
   "execution_count": 74,
   "metadata": {
    "slideshow": {
     "slide_type": "fragment"
    }
   },
   "outputs": [
    {
     "name": "stdout",
     "output_type": "stream",
     "text": [
      "1 Tesla\n",
      "2 Ford\n",
      "3 GM\n",
      "4 Toyota\n",
      "5 Kia\n"
     ]
    }
   ],
   "source": [
    "# for loop\n",
    "\n",
    "car_companies = [\"Tesla\",\"Ford\",\"GM\",\"Toyota\",\"Kia\"]\n",
    "\n",
    "counter = 1\n",
    "\n",
    "for c in car_companies:\n",
    "    print(counter, c)\n",
    "    counter = counter + 1"
   ]
  },
  {
   "cell_type": "code",
   "execution_count": 75,
   "metadata": {
    "slideshow": {
     "slide_type": "fragment"
    }
   },
   "outputs": [
    {
     "name": "stdout",
     "output_type": "stream",
     "text": [
      "0\n",
      "1\n",
      "2\n",
      "3\n",
      "4\n",
      "5\n",
      "6\n",
      "7\n",
      "8\n",
      "9\n"
     ]
    }
   ],
   "source": [
    "# range function for numbers and its variations\n",
    "\n",
    "for i in range(0,10):\n",
    "    print(i)\n",
    "\n"
   ]
  },
  {
   "cell_type": "code",
   "execution_count": 76,
   "metadata": {
    "slideshow": {
     "slide_type": "slide"
    }
   },
   "outputs": [
    {
     "name": "stdout",
     "output_type": "stream",
     "text": [
      "3 x 1 = 3\n",
      "3 x 2 = 6\n",
      "3 x 3 = 9\n",
      "3 x 4 = 12\n",
      "3 x 5 = 15\n",
      "3 x 6 = 18\n",
      "3 x 7 = 21\n",
      "3 x 8 = 24\n",
      "3 x 9 = 27\n",
      "3 x 10 = 30\n",
      "5 x 1 = 5\n",
      "5 x 2 = 10\n",
      "5 x 3 = 15\n",
      "5 x 4 = 20\n",
      "5 x 5 = 25\n",
      "5 x 6 = 30\n",
      "5 x 7 = 35\n",
      "5 x 8 = 40\n",
      "5 x 9 = 45\n",
      "5 x 10 = 50\n"
     ]
    }
   ],
   "source": [
    "# nested for loops: we can have multiple loops nested together\n",
    "# print tables of 3,5\n",
    "\n",
    "tables = [3,5]\n",
    "\n",
    "for i in tables:\n",
    "    for j in range(1,11):\n",
    "        print(i, \"x\", j, \"=\", i*j)\n"
   ]
  },
  {
   "cell_type": "code",
   "execution_count": 77,
   "metadata": {
    "slideshow": {
     "slide_type": "slide"
    }
   },
   "outputs": [
    {
     "name": "stdout",
     "output_type": "stream",
     "text": [
      "10\n",
      "5.0\n",
      "2.5\n"
     ]
    }
   ],
   "source": [
    "# while loop is used when we need to run a loop until a condition is true\n",
    "\n",
    "i = 10\n",
    "\n",
    "# divide i by 2 till i>2\n",
    "\n",
    "while i > 2:\n",
    "    print(i)\n",
    "    i = i/2\n",
    "    "
   ]
  }
 ],
 "metadata": {
  "celltoolbar": "Slideshow",
  "kernelspec": {
   "display_name": "Python 3",
   "language": "python",
   "name": "python3"
  },
  "language_info": {
   "codemirror_mode": {
    "name": "ipython",
    "version": 3
   },
   "file_extension": ".py",
   "mimetype": "text/x-python",
   "name": "python",
   "nbconvert_exporter": "python",
   "pygments_lexer": "ipython3",
   "version": "3.7.6"
  }
 },
 "nbformat": 4,
 "nbformat_minor": 4
}